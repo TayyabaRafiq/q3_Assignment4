{
  "nbformat": 4,
  "nbformat_minor": 0,
  "metadata": {
    "colab": {
      "provenance": [],
      "authorship_tag": "ABX9TyMqYL4eER4178cnS8J47DLb",
      "include_colab_link": true
    },
    "kernelspec": {
      "name": "python3",
      "display_name": "Python 3"
    },
    "language_info": {
      "name": "python"
    }
  },
  "cells": [
    {
      "cell_type": "markdown",
      "metadata": {
        "id": "view-in-github",
        "colab_type": "text"
      },
      "source": [
        "<a href=\"https://colab.research.google.com/github/TayyabaRafiq/q3_Assignment4/blob/main/04_dictionaries.ipynb\" target=\"_parent\"><img src=\"https://colab.research.google.com/assets/colab-badge.svg\" alt=\"Open In Colab\"/></a>"
      ]
    },
    {
      "cell_type": "markdown",
      "source": [
        "# Problem Statement:00_count_nums:\n",
        "\n",
        "This program counts the number of times each number appears in a list. It uses a dictionary to keep track of the information.\n",
        "\n",
        "An example run of the program looks like this (user input is in blue):\n",
        "\n",
        "Enter a number: 3 Enter a number: 4 Enter a number: 3 Enter a number: 6 Enter a number: 4 Enter a number: 3 Enter a number: 12 Enter a number: 3 appears 3 times. 4 appears 2 times. 6 appears 1 times. 12 appears 1 times."
      ],
      "metadata": {
        "id": "heKH0K36Lz5T"
      }
    },
    {
      "cell_type": "code",
      "source": [
        "print(\"00_count_nums\")\n",
        "\n",
        "def get_user_number():\n",
        "  user_numbers = []\n",
        "  while True:\n",
        "    user_input = input(\"please Enter a number: \")\n",
        "    if user_input == \"\":\n",
        "     break\n",
        "\n",
        "    num = int(user_input)\n",
        "    user_numbers.append(num)\n",
        "\n",
        "\n",
        "\n",
        "  return user_numbers\n",
        "\n",
        "def count_nums(num_lst):\n",
        "  num_dict = {}\n",
        "  for num in num_lst:\n",
        "    if num not in num_dict:\n",
        "      num_dict[num] = 1\n",
        "    else:\n",
        "      num_dict[num] += 1\n",
        "  return num_dict\n",
        "\n",
        "def print_counts(num_dict):\n",
        "  for num in num_dict:\n",
        "    print(f\"{num} appears in {num_dict[num]} times. \")\n",
        "\n",
        "def main():\n",
        "  user_numbers = get_user_number()\n",
        "  num_dict = count_nums(user_numbers)\n",
        "  print_counts(num_dict)\n",
        "\n",
        "if __name__==\"__main__\":\n",
        "  main()\n",
        "\n",
        "\n",
        "\n"
      ],
      "metadata": {
        "id": "yEqrMG8KMIW2",
        "colab": {
          "base_uri": "https://localhost:8080/"
        },
        "outputId": "c0cb1225-4c20-48e5-e302-8a5714c42a51"
      },
      "execution_count": null,
      "outputs": [
        {
          "output_type": "stream",
          "name": "stdout",
          "text": [
            "00_count_nums\n",
            "please Enter a number: 2\n",
            "please Enter a number: 3\n",
            "please Enter a number: 4\n",
            "please Enter a number: 5\n",
            "please Enter a number: 2\n",
            "please Enter a number: 3\n",
            "please Enter a number: 4\n",
            "please Enter a number: 5\n",
            "please Enter a number: 6\n",
            "please Enter a number: \n",
            "2 appears in 2 times. \n",
            "3 appears in 2 times. \n",
            "4 appears in 2 times. \n",
            "5 appears in 2 times. \n",
            "6 appears in 1 times. \n"
          ]
        }
      ]
    },
    {
      "cell_type": "code",
      "source": [],
      "metadata": {
        "id": "CxISoeAp9U--"
      },
      "execution_count": null,
      "outputs": []
    },
    {
      "cell_type": "markdown",
      "source": [
        "# Problem Statement:01_phonebook:\n",
        "\n",
        "In this program we show an example of using dictionaries to keep track of information in a phonebook."
      ],
      "metadata": {
        "id": "04zs7JY67o0K"
      }
    },
    {
      "cell_type": "code",
      "source": [
        "print(\"01_phonebook\")\n",
        "\n",
        "def phone_numbers():\n",
        "  phonebook = {}\n",
        "  while True:\n",
        "    name = input(\"Name: \")\n",
        "    if name == \"\":\n",
        "      break\n",
        "    number = input(\"Number: \")\n",
        "    phonebook[name] = number\n",
        "  return phonebook\n",
        "\n",
        "def print_phonebook(phonebook):\n",
        "  for name in phonebook:\n",
        "    print(f\" {name} -> {phonebook[name]} \")\n",
        "\n",
        "def check_numbers(phonebook):\n",
        "  while True:\n",
        "    name = input(\"Enter name to check number: \")\n",
        "    if name == \"\":\n",
        "     break\n",
        "    if name not in phonebook:\n",
        "      print(name + \" is not in the phonebook.\")\n",
        "    else:\n",
        "      print(phonebook[name])\n",
        "\n",
        "def main():\n",
        "  phonebook = phone_numbers()\n",
        "  print_phonebook(phonebook)\n",
        "  check_numbers(phonebook)\n",
        "\n",
        "if __name__ == \"__main__\":\n",
        "  main()\n",
        "\n",
        "\n"
      ],
      "metadata": {
        "colab": {
          "base_uri": "https://localhost:8080/"
        },
        "id": "qRXJo5qN7y-w",
        "outputId": "d0a57c74-d93c-40d9-aedb-4f8f4df95a48"
      },
      "execution_count": null,
      "outputs": [
        {
          "name": "stdout",
          "output_type": "stream",
          "text": [
            "01_phonebook\n",
            "Name: Tayyaba\n",
            "Number: 12345\n",
            "Name: owais\n",
            "Number: 56789\n",
            "Name: abdulhadi\n",
            "Number: 112233\n",
            "Name: hani\n",
            "Number: 334455\n",
            "Name: Arbish\n",
            "Number: 556677\n",
            "Name: \n",
            " Tayyaba -> 12345 \n",
            " owais -> 56789 \n",
            " abdulhadi -> 112233 \n",
            " hani -> 334455 \n",
            " Arbish -> 556677 \n",
            "Enter name to check number: abdulhadi\n",
            "112233\n",
            "Enter name to check number: ali\n",
            "ali is not in the phonebook.\n",
            "Enter name to check number: \n"
          ]
        }
      ]
    },
    {
      "cell_type": "markdown",
      "source": [
        "# Problem Statement:02_pop_up_shop:\n",
        "Write a program that loops through a dictionary of fruits, prompting the user to see how many of each fruit they want to buy, and then prints out the total combined cost of all of the fruits."
      ],
      "metadata": {
        "id": "uduUWv5KNCV8"
      }
    },
    {
      "cell_type": "code",
      "source": [
        "print(\"02_pop_up_shop\")\n",
        "\n",
        "def pop_up_shop():\n",
        "  fruits = {\"apple\": 1.5, \"cherry\":50, \"mango\": 5, \"jackfruit\":80, \"kiwi\":1, \"banana\":1.5}\n",
        "\n",
        "  total_cost = 0\n",
        "  for fruit_name in fruits:\n",
        "    price = fruits[fruit_name]\n",
        "    amount_bought = int(input(\" How many (\" + fruit_name + \") do you want to buy? \"))\n",
        "    total_cost += (amount_bought * price)\n",
        "\n",
        "  print(\"your total is $ \" + str(total_cost) )\n",
        "\n",
        "if __name__ == \"__main__\":\n",
        "  pop_up_shop()\n",
        "\n",
        "\n"
      ],
      "metadata": {
        "id": "zzQQSijSNaWk",
        "colab": {
          "base_uri": "https://localhost:8080/"
        },
        "outputId": "c405139f-ab42-4560-aabe-6baf8d8ab987"
      },
      "execution_count": null,
      "outputs": [
        {
          "output_type": "stream",
          "name": "stdout",
          "text": [
            "02_pop_up_shop\n",
            " How many (apple) do you want to buy? 12\n",
            " How many (cherry) do you want to buy? 6\n",
            " How many (mango) do you want to buy? 6\n",
            " How many (jackfruit) do you want to buy? 4\n",
            " How many (kiwi) do you want to buy? 4\n",
            " How many (banana) do you want to buy? 6\n",
            "your total is $ 681.0\n"
          ]
        }
      ]
    },
    {
      "cell_type": "markdown",
      "source": [
        "# Problem Statement:03_powerful_passwords:\n",
        "\n",
        "You want to be safe online and use different passwords for different websites. However, you are forgetful at times and want to make a program that can match which password belongs to which website without storing the actual password!\n",
        "Fill out the login(...) function for a website that hashes their passwords. Login should return True if an email's stored password hash in stored_logins is the same as the hash of password_to_check."
      ],
      "metadata": {
        "id": "uktYNnU2YX_B"
      }
    },
    {
      "cell_type": "code",
      "source": [
        "import hashlib\n",
        "\n",
        "print(\"03_powerful_passwords\")\n",
        "\n",
        "def hash_password(password):\n",
        "  return hashlib.sha256(password.encode()).hexdigest()\n",
        "\n",
        "stored_logins = {\n",
        "    \"userexample.com\": hash_password(\"password123xyz\"),\n",
        "    \"adminexample.com\": hash_password(\"adminpasswordxyz\")\n",
        "}\n",
        "\n",
        "def login(email,password):\n",
        "  if email in stored_logins:\n",
        "    return stored_logins[email] == hash_password(password)\n",
        "    return false\n",
        "\n",
        "if __name__ == \"__main__\":\n",
        "  email = input(\"Enter your email: \")\n",
        "  password = input(\"Enter your password: \")\n",
        "\n",
        "  if login(email, password):\n",
        "    print(\"login successful\")\n",
        "  else:\n",
        "    print(\"Invalid email or password\")\n",
        "\n",
        "\n"
      ],
      "metadata": {
        "id": "A7mDufd9ZT0S",
        "colab": {
          "base_uri": "https://localhost:8080/"
        },
        "outputId": "35fa7f09-1963-426e-bb19-8b8ed93ce575"
      },
      "execution_count": 3,
      "outputs": [
        {
          "output_type": "stream",
          "name": "stdout",
          "text": [
            "03_powerful_passwords\n",
            "Enter your email: userexample.com\n",
            "Enter your password: password123xyz\n",
            "login successful\n"
          ]
        }
      ]
    }
  ]
}