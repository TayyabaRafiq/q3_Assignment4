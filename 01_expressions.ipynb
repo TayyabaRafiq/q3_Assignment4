{
  "nbformat": 4,
  "nbformat_minor": 0,
  "metadata": {
    "colab": {
      "provenance": [],
      "authorship_tag": "ABX9TyNI46vE6Vl5GEwqCgEFxx6F",
      "include_colab_link": true
    },
    "kernelspec": {
      "name": "python3",
      "display_name": "Python 3"
    },
    "language_info": {
      "name": "python"
    }
  },
  "cells": [
    {
      "cell_type": "markdown",
      "metadata": {
        "id": "view-in-github",
        "colab_type": "text"
      },
      "source": [
        "<a href=\"https://colab.research.google.com/github/TayyabaRafiq/q3_Assignment4/blob/main/01_expressions.ipynb\" target=\"_parent\"><img src=\"https://colab.research.google.com/assets/colab-badge.svg\" alt=\"Open In Colab\"/></a>"
      ]
    },
    {
      "cell_type": "markdown",
      "source": [
        "Problem Statement\n",
        "Simulate rolling two dice, three times. Prints the results of each die roll. This program is used to show how variable scope works."
      ],
      "metadata": {
        "id": "wj-tcRIVl1eN"
      }
    },
    {
      "cell_type": "code",
      "source": [
        "print(\"01_dicesimulator\")\n",
        "\n",
        "import random\n",
        "def roll_dice():\n",
        "   die1:int = random.randint(1,6)\n",
        "   die2:int = random.randint(1,6)\n",
        "   total = die1 + die2\n",
        "   print(\"Total of two dice = \" , total)\n",
        "\n",
        "def main():\n",
        "   die1:int = 10\n",
        "   print('die1 in main() starts as: ' + str(die1))\n",
        "   roll_dice()\n",
        "   roll_dice()\n",
        "   roll_dice()\n",
        "   print('die1 in main() is : ' + str(die1))\n",
        "\n",
        "if __name__ == \"__main__\":\n",
        "  main()\n",
        "\n",
        "\n",
        "\n"
      ],
      "metadata": {
        "colab": {
          "base_uri": "https://localhost:8080/"
        },
        "id": "e5zF11REl9gw",
        "outputId": "71c65c06-48e7-4959-bf5f-a0b70bc5361d"
      },
      "execution_count": 2,
      "outputs": [
        {
          "output_type": "stream",
          "name": "stdout",
          "text": [
            "01_dicesimulator\n",
            "die1 in main() starts as: 10\n",
            "Total of two dice =  7\n",
            "Total of two dice =  11\n",
            "Total of two dice =  6\n",
            "die1 in main() is : 10\n"
          ]
        }
      ]
    },
    {
      "cell_type": "markdown",
      "source": [
        "***Problem Statement***:\n",
        "Write a program that continually reads in mass from the user and then outputs the equivalent energy using Einstein's mass-energy equivalence formula (E stands for energy, m stands for mass, and C is the speed of light:\n",
        "\n",
        "E = m * c**2\n",
        "\n",
        "Almost 100 years ago, Albert Einstein famously discovered that mass and energy are interchangeable and are related by the above equation. You should ask the user for mass (m) in kilograms and use a constant value for the speed of light -- C = 299792458 m/s.**bold text**"
      ],
      "metadata": {
        "id": "BsxmdD_opsF7"
      }
    },
    {
      "cell_type": "code",
      "source": [
        "print(\"02_e=mc2\")\n",
        "\n",
        "def energy():\n",
        "    c:int =  299792458\n",
        "    mass = float(input('Enter your mass in kilos : '))\n",
        "    energy_in_jules:float = mass * (c**2)\n",
        "    print(\"e = m * C^2...\")\n",
        "    print(\"m = \" + str(mass) + \" kg\")\n",
        "    print(\"C = \" + str(c) + \" m/s\")\n",
        "    print(\"Energy in jules is = \" + str(energy_in_jules) + \" jules\")\n",
        "\n",
        "if __name__ == \"__main__\":\n",
        "    energy()"
      ],
      "metadata": {
        "colab": {
          "base_uri": "https://localhost:8080/"
        },
        "id": "40Wg_fJqq3M9",
        "outputId": "bb4c9ee5-2861-480f-ae17-37bc8a9c025d"
      },
      "execution_count": 11,
      "outputs": [
        {
          "output_type": "stream",
          "name": "stdout",
          "text": [
            "02_e=mc2\n",
            "Enter your mass in kilos : 130\n",
            "e = m * C^2...\n",
            "m = 130.0 kg\n",
            "C = 299792458 m/s\n",
            "Energy in jules is = 1.1683817323578628e+19 jules\n"
          ]
        }
      ]
    },
    {
      "cell_type": "markdown",
      "source": [
        "**Problem Statement**\n",
        "\n",
        "Converts feet to inches. Feet is an American unit of measurement. There are 12 inches per foot. Foot is the singular, and feet is the plural."
      ],
      "metadata": {
        "id": "ljfdTJErwB7j"
      }
    },
    {
      "cell_type": "code",
      "source": [
        "print(\"03_feet_to_inches\")\n",
        "\n",
        "inches_in_1foot = 12\n",
        "def convert_inches():\n",
        "    feet:float = float(input(\"Enter your value in feet: \"))\n",
        "    inches:float = feet * inches_in_1foot\n",
        "    print(\"There is \" + str(inches) + \" inches in \" + str(feet) + \" feet\")\n",
        "\n",
        "if __name__ == \"__main__\":\n",
        "  convert_inches()"
      ],
      "metadata": {
        "colab": {
          "base_uri": "https://localhost:8080/"
        },
        "id": "75j8CCRvw7mE",
        "outputId": "8be07d49-870a-48e7-97e7-a296a78f7fc4"
      },
      "execution_count": 16,
      "outputs": [
        {
          "output_type": "stream",
          "name": "stdout",
          "text": [
            "03_feet_to_inches\n",
            "Enter your value in feet: 5.5\n",
            "There is 66.0 inches in 5.5 feet\n"
          ]
        }
      ]
    },
    {
      "cell_type": "markdown",
      "source": [
        "**Problem Statement: 04_pythagorean_theorem :**\n",
        "Write a program that asks the user for the lengths of the two perpendicular sides of a right triangle and outputs the length of the third side (the hypotenuse) using the Pythagorean theorem!\n",
        "\n",
        "The Pythagorean theorem, named after the ancient Greek thinker, Pythagoras, is a fundamental relation in geometry. It states that in a right triangle, the square of the hypotenuse is equal to the sum of the square of the other two sides.\n",
        "\n",
        "For instance, let's consider a right triangle ABC, with the right angle located at C. According to the Pythagorean theorem:\n",
        "\n",
        "BC ** 2 = AB ** 2 + AC ** 2"
      ],
      "metadata": {
        "id": "p_znDMQozoAQ"
      }
    },
    {
      "cell_type": "code",
      "source": [
        "import math\n",
        "print(\"04_pythagorean_theorem\")\n",
        "\n",
        "def pythagorean_theorem():\n",
        "   ab:float = float(input(\"Enter length of AB :\"))\n",
        "   ac:float = float(input(\"Enter the length of AC :\"))\n",
        "\n",
        "   # calculation\n",
        "   bc:float = math.sqrt(ab **2 + ac **2)\n",
        "   print(\"Length of the BC(hypotenuse) is : \" + str(bc) )\n",
        "\n",
        "if __name__ == \"__main__\":\n",
        "  pythagorean_theorem()\n",
        "\n"
      ],
      "metadata": {
        "colab": {
          "base_uri": "https://localhost:8080/"
        },
        "id": "57i89gIG0wWa",
        "outputId": "f8c36087-fc02-4f1f-e85e-6cbfb349c4be"
      },
      "execution_count": 17,
      "outputs": [
        {
          "output_type": "stream",
          "name": "stdout",
          "text": [
            "04_pythagorean_theorem\n",
            "Enter length of AB :5\n",
            "Enter the length of AC :6\n",
            "Length of the BC(hypotenuse) is : 7.810249675906654\n"
          ]
        }
      ]
    },
    {
      "cell_type": "markdown",
      "source": [
        "# Problem Statement:05_remainder_division:\n",
        "##\n",
        "Ask the user for two numbers, one at a time, and then print the result of dividing the first number by the second and also the remainder of the division."
      ],
      "metadata": {
        "id": "8TAa_fjB4UfN"
      }
    },
    {
      "cell_type": "code",
      "source": [
        "print(\"05_remainder_division\")\n",
        "\n",
        "def reminder():\n",
        "   dividend:int= int(input(\"Enter the first number\"))\n",
        "   divisor:int = int(input(\"Enter the second number\"))\n",
        "   quotient:int = dividend // divisor\n",
        "   reminder:int = dividend % divisor\n",
        "   print(\"The result of the division is : \" + str(quotient) + \" with reminder is  \" + str(reminder) )\n",
        "\n",
        "if __name__ == \"__main__\":\n",
        "  reminder()\n"
      ],
      "metadata": {
        "colab": {
          "base_uri": "https://localhost:8080/"
        },
        "id": "s-j7aTbI40F9",
        "outputId": "137947d5-c18f-4433-d9fc-9c38e167a317"
      },
      "execution_count": 18,
      "outputs": [
        {
          "output_type": "stream",
          "name": "stdout",
          "text": [
            "05_remainder_division\n",
            "Enter the first number5\n",
            "Enter the second number2\n",
            "The result of the division is : 2 with reminder is  1\n"
          ]
        }
      ]
    },
    {
      "cell_type": "markdown",
      "source": [
        "Problem Statement: 06_rolldice:\n",
        "\n",
        "Simulate rolling two dice, and prints results of each roll as well as the total."
      ],
      "metadata": {
        "id": "mqFjZwe08Vf9"
      }
    },
    {
      "cell_type": "code",
      "source": [
        "import random\n",
        "print(\"06_rolldice\")\n",
        "\n",
        "def roll_dice():\n",
        "    die1:int = random.randint(1, 6)\n",
        "    die2: int = random.randint(1,6)\n",
        "    total:int = die1 + die2\n",
        "    print(\"Result of die 1: \" + str(die1))\n",
        "    print(\"Result of die 2: \" + str(die2))\n",
        "    print(\"Total of die 1 and die 2: \" + str(total))\n",
        "\n",
        "if __name__ == \"__main__\":\n",
        "  roll_dice()\n",
        "  roll_dice()"
      ],
      "metadata": {
        "colab": {
          "base_uri": "https://localhost:8080/"
        },
        "id": "PXUoxnZ98hen",
        "outputId": "f4a6e9d0-8349-428c-8936-63a52c24fe39"
      },
      "execution_count": 20,
      "outputs": [
        {
          "output_type": "stream",
          "name": "stdout",
          "text": [
            "06_rolldice\n",
            "Result of die 1: 6\n",
            "Result of die 2: 1\n",
            "Total of die 1 and die 2: 7\n",
            "Result of die 1: 2\n",
            "Result of die 2: 3\n",
            "Total of die 1 and die 2: 5\n"
          ]
        }
      ]
    },
    {
      "cell_type": "markdown",
      "source": [
        "# Problem Statement:06_seconds_in_year:\n",
        "\n",
        "Use Python to calculate the number of seconds in a year, and tell the user what the result is in a nice print statement that looks like this (of course the value 5 should be the calculated number instead):\n",
        "\n",
        "There are 5 seconds in a year!\n",
        "\n",
        "You should use constants for this exercise -- there are 365 days in a year, 24 hours in a day, 60 minutes in an hour, and 60 seconds per minute."
      ],
      "metadata": {
        "id": "Ym8b2HeBC30o"
      }
    },
    {
      "cell_type": "code",
      "source": [
        "print(\"06_seconds_in_year\")\n",
        "days_per_year:int = 365\n",
        "hours_per_day:int = 24\n",
        "minutes_per_hour:int = 60\n",
        "seconds_per_minute:int= 60\n",
        "def seconds_in_year():\n",
        "    seconds:int = days_per_year * hours_per_day * minutes_per_hour * seconds_per_minute\n",
        "    print(\"There are \" + str(seconds) + \"seconds in a year\")\n",
        "\n",
        "if __name__ == \"__main__\":\n",
        "  seconds_in_year()\n"
      ],
      "metadata": {
        "colab": {
          "base_uri": "https://localhost:8080/"
        },
        "id": "8NBBhjvKDE3Y",
        "outputId": "af9bf8e5-d6b4-4bfb-ad70-edf28c59658d"
      },
      "execution_count": 21,
      "outputs": [
        {
          "output_type": "stream",
          "name": "stdout",
          "text": [
            "06_seconds_in_year\n",
            "There are 31536000seconds in a year\n"
          ]
        }
      ]
    },
    {
      "cell_type": "markdown",
      "source": [
        "# Problem Statement:07_tiny_mad_lib:\n",
        "\n",
        "Write a program which prompts the user for an adjective, then a noun, then a verb, and then prints a fun sentence with those words!\n",
        "\n",
        "Mad Libs is a word game where players are prompted for one word at a time, and the words are eventually filled into the blanks of a word template to make an entertaining story! We've provided you with the beginning of a sentence (the SENTENCE_START constant) which will end in a user-inputted adjective, noun, and then verb."
      ],
      "metadata": {
        "id": "sMC1QTdLGgZ0"
      }
    },
    {
      "cell_type": "code",
      "source": [
        "print(\"07_tiny_mad_lib\")\n",
        "SENTENCE_START:str = \"Panaversity is fun. I learned to program and used Python to make my\"\n",
        "\n",
        "def made_lib():\n",
        "   adjective:str = input(\"Please type an adjective and press Enter :\")\n",
        "   noun:str = input(\"Please type a noun and press Enter : \")\n",
        "   verb:str = input(\"Please type a verb and press Enter : \")\n",
        "   print( SENTENCE_START + \" \" + adjective + \" \" + noun + \" \" + verb + \" !\")\n",
        "if __name__ == \"__main__\":\n",
        "  made_lib()\n"
      ],
      "metadata": {
        "colab": {
          "base_uri": "https://localhost:8080/"
        },
        "id": "71CbGn-YGsC3",
        "outputId": "f39f9b75-e139-47c8-e8e3-1bcaf764ee9c"
      },
      "execution_count": 24,
      "outputs": [
        {
          "output_type": "stream",
          "name": "stdout",
          "text": [
            "07_tiny_mad_lib\n",
            "Please type an adjective and press Enter :small\n",
            "Please type a noun and press Enter : skills\n",
            "Please type a verb and press Enter : fly\n",
            "Panaversity is fun. I learned to program and used Python to make my small skills fly !\n"
          ]
        }
      ]
    }
  ]
}