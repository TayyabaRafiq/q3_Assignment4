{
  "nbformat": 4,
  "nbformat_minor": 0,
  "metadata": {
    "colab": {
      "provenance": [],
      "authorship_tag": "ABX9TyPrx8gq8U9pQ84DP3OsF6AW",
      "include_colab_link": true
    },
    "kernelspec": {
      "name": "python3",
      "display_name": "Python 3"
    },
    "language_info": {
      "name": "python"
    }
  },
  "cells": [
    {
      "cell_type": "markdown",
      "metadata": {
        "id": "view-in-github",
        "colab_type": "text"
      },
      "source": [
        "<a href=\"https://colab.research.google.com/github/TayyabaRafiq/q3_Assignment4/blob/main/07_information_flow.ipynb\" target=\"_parent\"><img src=\"https://colab.research.google.com/assets/colab-badge.svg\" alt=\"Open In Colab\"/></a>"
      ]
    },
    {
      "cell_type": "markdown",
      "source": [
        "# Problem Statement:00_choosing_returns:\n",
        "\n",
        "There are times where we want to return different things from a function based on some condition. To practice this idea, imagine that we want to check if someone is an adult. We might check their age and return different things depending on how old they are!\n",
        "\n",
        "We've provided you with the ADULT_AGE variable which has the age a person is legally classified as an adult (in the United States). Fill out the is_adult(age) function, which returns True if the function takes an age that is greater than or equal to ADULT_AGE. If the function takes an age less than ADULT_AGE, return False instead."
      ],
      "metadata": {
        "id": "Wb9ifEUq9l-I"
      }
    },
    {
      "cell_type": "code",
      "source": [
        "print(\"00_choosing_returns\")\n",
        "\n",
        "ADULT_AGE: int = 18\n",
        "\n",
        "def is_adult(age:int):\n",
        "  if age >= ADULT_AGE:\n",
        "    return True\n",
        "  return False\n",
        "\n",
        "def main():\n",
        "    age = int(input(\"Enter the age of person: \"))\n",
        "    print(is_adult(age))\n",
        "\n",
        "if __name__ == \"__main__\":\n",
        "   main()"
      ],
      "metadata": {
        "id": "MTgGz8PQ9vN9",
        "colab": {
          "base_uri": "https://localhost:8080/"
        },
        "outputId": "ec53ebf8-2a41-44c1-80f1-8aad31f8c0f1"
      },
      "execution_count": 3,
      "outputs": [
        {
          "output_type": "stream",
          "name": "stdout",
          "text": [
            "00_choosing_returns\n",
            "Enter the age of person: 20\n",
            "True\n"
          ]
        }
      ]
    },
    {
      "cell_type": "markdown",
      "source": [
        "# Problem Statement:01_greetings:\n",
        "\n",
        "We've written a helper function for you called greet(name) which takes as input a string name and prints a greeting. Write some code in main() to get the user's name and then greet them, being sure to call the greet(name) helper function."
      ],
      "metadata": {
        "id": "Sn6-QkZwgmzp"
      }
    },
    {
      "cell_type": "code",
      "source": [
        "print(\"01_greetings\")\n",
        "\n",
        "def greeting(name):\n",
        "  return \"Good Day \" + name + \" !\"\n",
        "\n",
        "def main():\n",
        "  name:str = input(\"What's your name ? \")\n",
        "  print(greeting(name))\n",
        "\n",
        "if __name__ == \"__main__\":\n",
        "  main()"
      ],
      "metadata": {
        "colab": {
          "base_uri": "https://localhost:8080/"
        },
        "id": "gOmkyapeg7Wr",
        "outputId": "153f720f-caf1-43bf-aefa-75f874a3d60b"
      },
      "execution_count": 6,
      "outputs": [
        {
          "output_type": "stream",
          "name": "stdout",
          "text": [
            "01_greetings\n",
            "What's your name ? Arbish\n",
            "Good Day Arbish !\n"
          ]
        }
      ]
    },
    {
      "cell_type": "markdown",
      "source": [
        "# Problem Statement:02_in_range:\n",
        "\n",
        "Implement the following function which takes in 3 integers as parameters:\n",
        "\n",
        "def in_range(n, low, high) \"\"\" Returns True if n is between low and high, inclusive. high is guaranteed to be greater than low. \"\"\""
      ],
      "metadata": {
        "id": "G9uZbTGhivCY"
      }
    },
    {
      "cell_type": "code",
      "source": [
        "print(\"02_in_range\")\n",
        "\n",
        "def in_range(n, low=1, high=50):\n",
        "  if n >= low and n <= high:\n",
        "    return True\n",
        "  return False\n",
        "\n",
        "def main():\n",
        "  n = int(input(\"Enter a number (between 1 and 50): \"))\n",
        "  print(in_range(n))\n",
        "\n",
        "if __name__ == \"__main__\":\n",
        "  main()"
      ],
      "metadata": {
        "colab": {
          "base_uri": "https://localhost:8080/"
        },
        "id": "A0aUs2gWjE9V",
        "outputId": "363d2c70-5b9d-4a10-e850-4c7f25f0b06e"
      },
      "execution_count": 7,
      "outputs": [
        {
          "output_type": "stream",
          "name": "stdout",
          "text": [
            "02_in_range\n",
            "Enter a number (between 1 and 50): 40\n",
            "True\n"
          ]
        }
      ]
    },
    {
      "cell_type": "markdown",
      "source": [
        "# Problem Statement:03_in_stock:\n",
        "\n",
        "Sophia has a fruit store. She has written a function num_in_stock which takes a string fruit as a parameter and returns how many of that fruit are in her inventory. Write code in main() which will:\n",
        "\n",
        "Prompt the user to enter a fruit (\"Enter a fruit: \")\n",
        "\n",
        "Call num_in_stock(fruit) to get the number of that fruit that Sophia has in stock\n",
        "\n",
        "Print the number which are in stock if Sophia has that fruit in her inventory (there are more than 0 in stock)\n",
        "\n",
        "Print \"This fruit is not in stock.\" if Sophia has none of that fruit in her inventory."
      ],
      "metadata": {
        "id": "npiA3NwXmZ0z"
      }
    },
    {
      "cell_type": "code",
      "source": [
        "print(\"03_in_stock\")\n",
        "\n",
        "def num_in_stock(fruit):\n",
        "  if fruit == 'apple':\n",
        "    return 12\n",
        "  if fruit == 'orange':\n",
        "    return 20\n",
        "  if fruit == 'banana':\n",
        "    return 300\n",
        "  else:\n",
        "    return 0\n",
        "\n",
        "def main():\n",
        "  fruit:str = input(\"Enter a fruit: \")\n",
        "  stock = num_in_stock(fruit)\n",
        "  if stock == 0:\n",
        "    print(\"This fruit is not in stock\")\n",
        "  else:\n",
        "    print(\"This fruit is in stock! Here is how many: \")\n",
        "    print(stock)\n",
        "\n",
        "if __name__ == \"__main__\":\n",
        "  main()"
      ],
      "metadata": {
        "colab": {
          "base_uri": "https://localhost:8080/"
        },
        "id": "gZd9qVsumiU-",
        "outputId": "4188df03-fd37-4a04-ea94-4e128e353773"
      },
      "execution_count": 8,
      "outputs": [
        {
          "output_type": "stream",
          "name": "stdout",
          "text": [
            "03_in_stock\n",
            "Enter a fruit: banana\n",
            "This fruit is in stock! Here is how many: \n",
            "300\n"
          ]
        }
      ]
    },
    {
      "cell_type": "markdown",
      "source": [
        "# Problem Statement:04_multiple_returns:\n",
        "\n",
        "There are times where you are working with lots of different data within a function that you want to return. While generally, we want to keep functions to have a precise purpose, sometimes that purpose just deals with multiple bits of data.\n",
        "\n",
        "To practice this, imagine we are working on a program where the user needs to enters data to sign up for a website. Fill out the get_user_data() function which:\n",
        "\n",
        "Asks the user for their first name and stores it in a variable\n",
        "\n",
        "Asks the user for their last name and stores it in a variable\n",
        "\n",
        "Asks the user for their email address and stores it in a variable\n",
        "\n",
        "Returns all three of these pieces of data in the order it was asked\n",
        "\n",
        "You can return multiple pieces of data by separating each piece with a comma in the return line."
      ],
      "metadata": {
        "id": "0pK6aCjMpE4Q"
      }
    },
    {
      "cell_type": "code",
      "source": [
        "print(\"04_multiple_returns\")\n",
        "\n",
        "def get_user_info():\n",
        "  first_name:str = input(\"Enter your first name: \")\n",
        "  last_name:str = input(\"Enter your last name: \")\n",
        "  email_address:str = input(\"Enter your email address: \")\n",
        "\n",
        "  return first_name, last_name, email_address\n",
        "\n",
        "def main():\n",
        "  user_data = get_user_info()\n",
        "  print(\"Recieved the following data: \" , user_data)\n",
        "\n",
        "if __name__ == \"__main__\":\n",
        "  main()\n",
        "\n"
      ],
      "metadata": {
        "colab": {
          "base_uri": "https://localhost:8080/"
        },
        "id": "4z2i5qZtpqbS",
        "outputId": "3f7c5382-eee5-4376-c6f2-98e4809989f7"
      },
      "execution_count": 9,
      "outputs": [
        {
          "output_type": "stream",
          "name": "stdout",
          "text": [
            "04_multiple_returns\n",
            "Enter your first name: Tayyaba\n",
            "Enter your last name: Rafiq\n",
            "Enter your email address: tayyaba@abc\n",
            "Recieved the following data:  ('Tayyaba', 'Rafiq', 'tayyaba@abc')\n"
          ]
        }
      ]
    },
    {
      "cell_type": "markdown",
      "source": [
        "# Problem Statement:05_subtract_7:\n",
        "\n",
        "Fill out the subtract_seven helper function to subtract 7 from num, and fill out the main() method to call the subtract_seven helper function!"
      ],
      "metadata": {
        "id": "0PHyyP2Krk1u"
      }
    },
    {
      "cell_type": "code",
      "source": [
        "print(\"05_subtract_7\")\n",
        "\n",
        "def subtract_seven(num):\n",
        "  num = num - 7\n",
        "  return num\n",
        "\n",
        "def main():\n",
        "  num:int = 7\n",
        "  subtract_seven(num)\n",
        "  print(\"This should be zero: \" ,num )\n",
        "\n",
        "if __name__ == \"__main__\":\n",
        "  main()"
      ],
      "metadata": {
        "colab": {
          "base_uri": "https://localhost:8080/"
        },
        "id": "UcaTEg7vrujc",
        "outputId": "3eff37bd-738e-41ff-a93d-8902fddc8492"
      },
      "execution_count": 10,
      "outputs": [
        {
          "output_type": "stream",
          "name": "stdout",
          "text": [
            "05_subtract_7\n",
            "This should be zero:  7\n"
          ]
        }
      ]
    }
  ]
}