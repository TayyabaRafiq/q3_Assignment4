{
  "nbformat": 4,
  "nbformat_minor": 0,
  "metadata": {
    "colab": {
      "provenance": [],
      "authorship_tag": "ABX9TyOAT7yzmm57Z/jVVcnQVxav",
      "include_colab_link": true
    },
    "kernelspec": {
      "name": "python3",
      "display_name": "Python 3"
    },
    "language_info": {
      "name": "python"
    }
  },
  "cells": [
    {
      "cell_type": "markdown",
      "metadata": {
        "id": "view-in-github",
        "colab_type": "text"
      },
      "source": [
        "<a href=\"https://colab.research.google.com/github/TayyabaRafiq/q3_Assignment4/blob/main/online_class_projects_02_intermediate.ipynb\" target=\"_parent\"><img src=\"https://colab.research.google.com/assets/colab-badge.svg\" alt=\"Open In Colab\"/></a>"
      ]
    },
    {
      "cell_type": "markdown",
      "source": [
        "# Control Flow for Console Problem: High Low game:\n",
        "\n",
        "We want you to gain more experience working with control flow and Booleans in Python. To do this, we are going to have you develop a game! The game is called High-Low and the way it's played goes as follows:\n",
        "\n",
        "Two numbers are generated from 1 to 100 (inclusive on both ends): one for you and one for a computer, who will be your opponent. You can see your number, but not the computer's!\n",
        "\n",
        "You make a guess, saying your number is either higher than or lower than the computer's number\n",
        "\n",
        "If your guess matches the truth (ex. you guess your number is higher, and then your number is actually higher than the computer's), you get a point!\n",
        "\n",
        "These steps make up one round of the game. The game is over after all rounds have been played."
      ],
      "metadata": {
        "id": "xSZQXXjHbD0q"
      }
    },
    {
      "cell_type": "code",
      "source": [
        "import random\n",
        "\n",
        "round = 5\n",
        "\n",
        "def main():\n",
        "  print(\"Welcome to the High Low Game!\")\n",
        "  print(\"***************************************************\")\n",
        "\n",
        "  your_score = 0\n",
        "\n",
        "  for i in range(round):\n",
        "    print(\"Round\", i + 1)\n",
        "\n",
        "    computer_number:int = random.randint(1,100)\n",
        "    your_number:int = random.randint(1,100)\n",
        "    print(\"your number is: \", your_number)\n",
        "\n",
        "    choice:str = input(\"Do you think your number is higher or lower than the computer's number? \").lower()\n",
        "    higher_and_correct:bool = choice == \"higher\" and your_number > computer_number\n",
        "    lower_and_correct:bool = choice == \"lower\" and your_number < computer_number\n",
        "\n",
        "    if higher_and_correct or lower_and_correct:\n",
        "      print(\"You were right! The computer's number was \", computer_number)\n",
        "      your_score += 1\n",
        "    else:\n",
        "      print(\"That's incorrect, The computer's number was \", computer_number)\n",
        "\n",
        "    print(\"Your score is now: \", your_score)\n",
        "    print()\n",
        "\n",
        "  print(\"Thanks for playing!\")\n",
        "\n",
        "if __name__ == \"__main__\":\n",
        "  main()\n"
      ],
      "metadata": {
        "colab": {
          "base_uri": "https://localhost:8080/"
        },
        "id": "k-jVhz_hT7gG",
        "outputId": "31cc439d-33b2-4696-a442-08920bd8a352"
      },
      "execution_count": null,
      "outputs": [
        {
          "output_type": "stream",
          "name": "stdout",
          "text": [
            "Welcome to the High Low Game!\n",
            "***************************************************\n",
            "Round 1\n",
            "your number is:  46\n",
            "Do you think your number is higher or lower than the computer's number? lower\n",
            "That's incorrect, The computer's number was  32\n",
            "Your score is now:  0\n",
            "\n",
            "Round 2\n",
            "your number is:  98\n",
            "Do you think your number is higher or lower than the computer's number? higher\n",
            "You were right! The computer's number was  91\n",
            "Your score is now:  1\n",
            "\n",
            "Round 3\n",
            "your number is:  28\n",
            "Do you think your number is higher or lower than the computer's number? lower\n",
            "You were right! The computer's number was  63\n",
            "Your score is now:  2\n",
            "\n",
            "Round 4\n",
            "your number is:  99\n",
            "Do you think your number is higher or lower than the computer's number? higher\n",
            "You were right! The computer's number was  59\n",
            "Your score is now:  3\n",
            "\n",
            "Round 5\n",
            "your number is:  43\n",
            "Do you think your number is higher or lower than the computer's number? lower\n",
            "You were right! The computer's number was  49\n",
            "Your score is now:  4\n",
            "\n",
            "Thanks for playing!\n"
          ]
        }
      ]
    },
    {
      "cell_type": "markdown",
      "source": [
        "# Problem: Planetary Weight Calculator:\n",
        "\n",
        "# Milestone #1: Mars Weight:"
      ],
      "metadata": {
        "id": "xR0Cd3ek3HuO"
      }
    },
    {
      "cell_type": "code",
      "source": [
        "MARS_MULTIPLE = 0.378\n",
        "\n",
        "def main():\n",
        "  print(\"Welcome to the Planetary Weight Calculator\")\n",
        "  print(\"--------------------------------------------------\")\n",
        "\n",
        "  earth_weight = float(input(\"Enter your weight on Earth: \"))\n",
        "\n",
        "# Calculating the weight on Mars\n",
        "  mars_weight = earth_weight * MARS_MULTIPLE\n",
        "\n",
        "\n",
        "  print(\"The equivalent weight on Mars:\", mars_weight)\n",
        "\n",
        "if __name__ == \"__main__\":\n",
        "  main()\n"
      ],
      "metadata": {
        "colab": {
          "base_uri": "https://localhost:8080/"
        },
        "id": "xpFmk7Nk3Pgf",
        "outputId": "159a4cfb-20e2-4948-cfcc-ee5d99be4b71"
      },
      "execution_count": null,
      "outputs": [
        {
          "output_type": "stream",
          "name": "stdout",
          "text": [
            "Welcome to the Planetary Weight Calculator\n",
            "--------------------------------------------------\n",
            "Enter your weight on Earth: 150\n",
            "The equivalent weight on Mars: 56.7\n"
          ]
        }
      ]
    },
    {
      "cell_type": "code",
      "source": [],
      "metadata": {
        "id": "jGdEuO9uBb8B"
      },
      "execution_count": null,
      "outputs": []
    },
    {
      "cell_type": "markdown",
      "source": [
        "# Problem: Planetary Weight Calculator:\n",
        "# Milestone #2: Adding in All Planets\n",
        "\n",
        "Mars is not the only planet in our solar system with its own unique gravity. In fact, each planet has a different gravitational constant, which affects how much an object would weigh on that planet. Below is a list of the constants for each planet\n",
        "Prompts the user for a weight on Earth and a planet (in separate inputs). Then prints the equivalent weight on that planet.\n",
        "MERCURY_GRAVITY = 0.376 VENUS_GRAVITY = 0.889 MARS_GRAVITY = 0.378 JUPITER_GRAVITY = 2.36 SATURN_GRAVITY = 1.081 URANUS_GRAVITY = 0.815 NEPTUNE_GRAVITY = 1.14 EARTH_GRAVITY = 1.0\n"
      ],
      "metadata": {
        "id": "uT81pKzu8-9y"
      }
    },
    {
      "cell_type": "code",
      "source": [
        "def main():\n",
        "  print(\"Welcome to the Planetary Weight Calculator\")\n",
        "  print(\"--------------------------------------------------\")\n",
        "earth_weight = float(input(\"Enter your weight on Earth: \"))\n",
        "gravity_ratios = {\n",
        "    \"Mercury_gravity\": 0.37,\n",
        "    \"Venus\": 0.88,\n",
        "    \"Mars_gravity\": 0.37,\n",
        "    \"Jupiter_gravity\":2.36,\n",
        "    \"Saturn_gravity\": 1.08,\n",
        "    \"Uranus_gravity\": 0.81,\n",
        "    \"Neptune_gravity\": 1.14,\n",
        "    \"Earth_gravity\": 1.0\n",
        "}\n",
        "print(\"\\n Select a planet: \")\n",
        "for planet in gravity_ratios:\n",
        "  print(f\"- {planet}\")\n",
        "\n",
        "planet_choice = input(\"Enter the name of the planet:\").title()\n",
        "\n",
        "if planet_choice in gravity_ratios:\n",
        "  new_weight = earth_weight * gravity_ratios[planet_choice]\n",
        "  print(f\"Your weight on {planet_choice} is {new_weight: = 2f}kg\")\n",
        "else:\n",
        "  print(\"Invalid planet choice\")\n",
        "\n",
        "if __name__ == \"__main__\":\n",
        "  main()"
      ],
      "metadata": {
        "colab": {
          "base_uri": "https://localhost:8080/"
        },
        "id": "e-e5t0bq91gA",
        "outputId": "034010f5-0502-4b4a-d21d-7dc93b095f4e"
      },
      "execution_count": null,
      "outputs": [
        {
          "output_type": "stream",
          "name": "stdout",
          "text": [
            "Enter your weight on Earth: 25\n",
            "\n",
            " Select a planet: \n",
            "- Mercury_gravity\n",
            "- Venus\n",
            "- Mars_gravity\n",
            "- Jupiter_gravity\n",
            "- Saturn_gravity\n",
            "- Uranus_gravity\n",
            "- Neptune_gravity\n",
            "- Earth_gravity\n",
            "Enter the name of the planet:venus\n",
            "Your weight on Venus is  22.000000kg\n",
            "Welcome to the Planetary Weight Calculator\n",
            "--------------------------------------------------\n"
          ]
        }
      ]
    },
    {
      "cell_type": "markdown",
      "source": [
        "# Lists and Dicts:\n",
        "# Problem #1: List Practice:\n",
        "\n",
        "Now practice writing code with lists! Implement the functionality described in the comments below.\n",
        "\n",
        "def main(): # Create a list called fruit_list that contains the following fruits: # 'apple', 'banana', 'orange', 'grape', 'pineapple'.\n"
      ],
      "metadata": {
        "id": "haRaJauV_RE0"
      }
    },
    {
      "cell_type": "code",
      "source": [
        "def main():\n",
        "  fruits_lst:list = ['apple', 'banana', 'orange', 'grape', 'pineapple']\n",
        "\n",
        "  # Print the length of the list.\n",
        "  lst_length = len(fruits_lst)\n",
        "  print(lst_length)\n",
        "\n",
        "  # Add 'mango' at the end of the list.\n",
        "  fruits_lst.append(\"mango\")\n",
        "\n",
        "  # Print the updated list.\n",
        "  for fruit in fruits_lst:\n",
        "    print(fruit)\n",
        "  new_length = len(fruits_lst)\n",
        "  print(new_length)\n",
        "\n",
        "if __name__ == \"__main__\":\n",
        "  main()\n"
      ],
      "metadata": {
        "colab": {
          "base_uri": "https://localhost:8080/"
        },
        "id": "bvUzMHmU_sO9",
        "outputId": "a338205f-f1a3-43be-8627-589f8e5e6c7a"
      },
      "execution_count": 5,
      "outputs": [
        {
          "output_type": "stream",
          "name": "stdout",
          "text": [
            "5\n",
            "apple\n",
            "banana\n",
            "orange\n",
            "grape\n",
            "pineapple\n",
            "mango\n",
            "6\n"
          ]
        }
      ]
    },
    {
      "cell_type": "markdown",
      "source": [
        "# Problem #2: Index Game:\n",
        "# Objective:\n",
        "Create a Python program that helps you practice accessing and manipulating elements in a list. This exercise will help you get comfortable with indexing, slicing, and modifying list elements.\n",
        "\n",
        "# Instructions:\n",
        "Initialize a List:\n",
        "Create a list with at least 5 different elements. They can be numbers, strings, or a mix of both.\n",
        "\n",
        "# Accessing Elements:\n",
        "Write a function that:\n",
        "\n",
        "Accepts a list and an index as inputs.\n",
        "Returns the element at the specified index.\n",
        "If the index is out of range, return an appropriate message.\n",
        "\n",
        "# Modifying Elements:\n",
        "\n",
        "Write a function that:\n",
        "\n",
        "Accepts a list, an index, and a new value as inputs.\n",
        "Replaces the element at the specified index with the new value.\n",
        "If the index is out of range, return an appropriate message.\n",
        "\n",
        "# Slicing the List:\n",
        "\n",
        "Write a function that:\n",
        "\n",
        "Accepts a list, a start index, and an end index as inputs.\n",
        "Returns a new list containing the elements from the start index up to (but not including) the end index.\n",
        "Handles cases where the indices are out of range.\n",
        "\n",
        "# Game Interaction:\n",
        "\n",
        "Create a simple text-based game that:\n",
        "\n",
        "Prompts the user to select an operation (access, modify, slice).\n",
        "Asks for the necessary inputs (index, new value, etc.).\n",
        "Displays the result and the updated list."
      ],
      "metadata": {
        "id": "ZFV7c9GdC9-O"
      }
    },
    {
      "cell_type": "code",
      "source": [
        "print(\"List and Dicts\")\n",
        "\n",
        "# Returns the element at the specified index. If the index is out of range, return, index out of range.\n",
        "def access_element(my_list, index):\n",
        "  if 0 <= index < len(my_list):\n",
        "    return f'Element at index {index}:  {my_list[index]}'\n",
        "  return 'index out of range'\n",
        "\n",
        "# modify the element at the specified index with the new value. If the index is out of range, return index out of range.\n",
        "def modify_element(my_list, index, new_value):\n",
        "  if 0 <= index < len(my_list):\n",
        "    old_value = my_list[index]\n",
        "    my_list[index] = new_value\n",
        "    return f'Element at index {index} modified from {old_value} to {new_value}'\n",
        "  return 'index out of range'\n",
        "\n",
        "# Returns a new list containing the elements from the start index up to (but not including) the end index.\n",
        "def slice_list(my_list, start, end):\n",
        "  if 0 <= start < len(my_list) and 0 <= end <= len(my_list):\n",
        "    return f'Sliced list:{my_list[start:end]}'\n",
        "  return 'Invalid slice indicates!'\n",
        "\n",
        "def list_game():\n",
        "  print(\"\\n Welcome to the list manipulation\")\n",
        "\n",
        "  my_list:list = ['apple', 'banana', 'orange', 'grape', 'pineapple']\n",
        "\n",
        "  while True:\n",
        "    print(\"Current list\", my_list)\n",
        "\n",
        "    print(\"Select an operation: \")\n",
        "    print(\"1. Access Element\")\n",
        "    print(\"2. Modify Element\")\n",
        "    print(\"3. Slice List\")\n",
        "    print(\"4. Exit\")\n",
        "\n",
        "    choice = input(\"Enter your operation (1-4): \")\n",
        "\n",
        "    if choice == \"1\":\n",
        "      index = int(input(\"Enter the index of the element you want to access: \"))\n",
        "      print(access_element(my_list, index))\n",
        "    elif choice == \"2\":\n",
        "      index = int(input(\"Enter the index of the element , you want to modify: \"))\n",
        "      new_value = input(\"Enter the new value for the element: \")\n",
        "      print(modify_element(my_list, index, new_value))\n",
        "    elif choice == \"3\":\n",
        "      start = int(input(\"Enter the start index for the slice: \"))\n",
        "      end = int(input(\"Enter the end index for the slice: \"))\n",
        "      print(slice_list(my_list, start, end))\n",
        "    elif choice == \"4\":\n",
        "      print(\"Exiting the game!, Thanks for playing.\")\n",
        "      break\n",
        "    else:\n",
        "      print(\"Invalid choice!, plz enter a number between 1 to 4\")\n",
        "\n",
        "if __name__ == \"__main__\":\n",
        "  list_game()\n",
        "\n"
      ],
      "metadata": {
        "colab": {
          "base_uri": "https://localhost:8080/"
        },
        "id": "9f_K8RTeET9V",
        "outputId": "9a582791-8b69-49ee-9991-31470b120714"
      },
      "execution_count": 8,
      "outputs": [
        {
          "output_type": "stream",
          "name": "stdout",
          "text": [
            "List and Dicts\n",
            "\n",
            " Welcome to the list manipulation\n",
            "Current list ['apple', 'banana', 'orange', 'grape', 'pineapple']\n",
            "Select an operation: \n",
            "1. Access Element\n",
            "2. Modify Element\n",
            "3. Slice List\n",
            "4. Exit\n",
            "Enter your operation (1-4): 1\n",
            "Enter the index of the element you want to access: 3\n",
            "Element at index 3:  grape\n",
            "Current list ['apple', 'banana', 'orange', 'grape', 'pineapple']\n",
            "Select an operation: \n",
            "1. Access Element\n",
            "2. Modify Element\n",
            "3. Slice List\n",
            "4. Exit\n",
            "Enter your operation (1-4): 2\n",
            "Enter the index of the element , you want to modify: 4\n",
            "Enter the new value for the element: mango\n",
            "Element at index 4 modified from pineapple to mango\n",
            "Current list ['apple', 'banana', 'orange', 'grape', 'mango']\n",
            "Select an operation: \n",
            "1. Access Element\n",
            "2. Modify Element\n",
            "3. Slice List\n",
            "4. Exit\n",
            "Enter your operation (1-4): 3\n",
            "Enter the start index for the slice: 1\n",
            "Enter the end index for the slice: 4\n",
            "Sliced list:['banana', 'orange', 'grape']\n",
            "Current list ['apple', 'banana', 'orange', 'grape', 'mango']\n",
            "Select an operation: \n",
            "1. Access Element\n",
            "2. Modify Element\n",
            "3. Slice List\n",
            "4. Exit\n",
            "Enter your operation (1-4): 4\n",
            "Exiting the game!, Thanks for playing.\n"
          ]
        }
      ]
    }
  ]
}