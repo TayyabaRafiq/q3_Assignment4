{
  "nbformat": 4,
  "nbformat_minor": 0,
  "metadata": {
    "colab": {
      "provenance": [],
      "authorship_tag": "ABX9TyObRGvrwKKTzLXwEy3I+8aF",
      "include_colab_link": true
    },
    "kernelspec": {
      "name": "python3",
      "display_name": "Python 3"
    },
    "language_info": {
      "name": "python"
    }
  },
  "cells": [
    {
      "cell_type": "markdown",
      "metadata": {
        "id": "view-in-github",
        "colab_type": "text"
      },
      "source": [
        "<a href=\"https://colab.research.google.com/github/TayyabaRafiq/q3_Assignment4/blob/main/05_loops_control_flow.ipynb\" target=\"_parent\"><img src=\"https://colab.research.google.com/assets/colab-badge.svg\" alt=\"Open In Colab\"/></a>"
      ]
    },
    {
      "cell_type": "code",
      "execution_count": null,
      "metadata": {
        "id": "egWQkNCrLzCi"
      },
      "outputs": [],
      "source": []
    },
    {
      "cell_type": "markdown",
      "source": [
        "# Problem Statement:00_guess_my_number:\n",
        "\n",
        "Guess My Number"
      ],
      "metadata": {
        "id": "t6F8F3F1L6Xg"
      }
    },
    {
      "cell_type": "code",
      "source": [
        "import random\n",
        "\n",
        "print(\"00_guess_my_number\")\n",
        "\n",
        "def number_guess():\n",
        "  secret_number = random .randint(1, 100)\n",
        "  print(\"I am thinking of a number between 1 and 99...\")\n",
        "\n",
        "  guess = int(input(\"Enter your number: \"))\n",
        "\n",
        "  while guess != secret_number:\n",
        "    if guess < secret_number:\n",
        "      print(\"your guess is too low.\")\n",
        "    else:\n",
        "      print(\"your guess is too high.\")\n",
        "\n",
        "    print()\n",
        "    guess = int(input(\"Enter new guess: \"))\n",
        "\n",
        "  print(\"congratulations! you guess the right number that was: \" + str(secret_number))\n",
        "\n",
        "if __name__ == \"__main__\":\n",
        "  number_guess()\n"
      ],
      "metadata": {
        "colab": {
          "base_uri": "https://localhost:8080/"
        },
        "id": "DkNzNdATMMeZ",
        "outputId": "dfcd78a1-d056-409b-c3ab-104f78f44c02"
      },
      "execution_count": 1,
      "outputs": [
        {
          "output_type": "stream",
          "name": "stdout",
          "text": [
            "00_guess_my_number\n",
            "I am thinking of a number between 1 and 99...\n",
            "Enter your number: 50\n",
            "your guess is too low.\n",
            "\n",
            "Enter new guess: 60\n",
            "your guess is too low.\n",
            "\n",
            "Enter new guess: 70\n",
            "your guess is too low.\n",
            "\n",
            "Enter new guess: 90\n",
            "your guess is too low.\n",
            "\n",
            "Enter new guess: 98\n",
            "your guess is too high.\n",
            "\n",
            "Enter new guess: 95\n",
            "your guess is too low.\n",
            "\n",
            "Enter new guess: 97\n",
            "your guess is too high.\n",
            "\n",
            "Enter new guess: 96\n",
            "congratulations! you guess the right number that was: 96\n"
          ]
        }
      ]
    },
    {
      "cell_type": "markdown",
      "source": [
        "# Problem Statement:01_fibonacci:\n",
        "\n",
        "Write a program to print terms in the Fibonacci sequence up to a maximum value."
      ],
      "metadata": {
        "id": "psvajgaQQZOA"
      }
    },
    {
      "cell_type": "code",
      "source": [
        "print(\"01_fibonacci\")\n",
        "\n",
        "max_value:int = 10000\n",
        "\n",
        "def fib():\n",
        "  curr_value:int = 0\n",
        "  next_value:int = 1\n",
        "  while curr_value <= max_value:\n",
        "    print(curr_value)\n",
        "    value_after_next = curr_value + next_value\n",
        "    curr_value = next_value\n",
        "    next_value = value_after_next\n",
        "\n",
        "if __name__ == \"__main__\":\n",
        "  fib()\n",
        "\n",
        "\n",
        "\n"
      ],
      "metadata": {
        "colab": {
          "base_uri": "https://localhost:8080/"
        },
        "id": "NLourYq3QsGL",
        "outputId": "99ce974f-e66e-4ba6-ef81-9df58de90d7c"
      },
      "execution_count": 2,
      "outputs": [
        {
          "output_type": "stream",
          "name": "stdout",
          "text": [
            "01_fibonacci\n",
            "0\n",
            "1\n",
            "1\n",
            "2\n",
            "3\n",
            "5\n",
            "8\n",
            "13\n",
            "21\n",
            "34\n",
            "55\n",
            "89\n",
            "144\n",
            "233\n",
            "377\n",
            "610\n",
            "987\n",
            "1597\n",
            "2584\n",
            "4181\n",
            "6765\n"
          ]
        }
      ]
    },
    {
      "cell_type": "markdown",
      "source": [
        "# Problem Statement:02_print_events:\n",
        "\n",
        "Write a program that prints the first 20 even numbers. There are several correct approaches, but they all use a loop of some sort. Do no write twenty print statements\n",
        "\n",
        "The first even number is 0:\n",
        "\n",
        "0 2 4 6 8 10 12 14 16 18 20 22 24 26 28 30 32 34 36 38"
      ],
      "metadata": {
        "id": "PwNhs_nIaJ15"
      }
    },
    {
      "cell_type": "code",
      "source": [
        "print(\"02_print_events\")\n",
        "\n",
        "def even():\n",
        "  for i in range(20):\n",
        "   print(i * 2)\n",
        "\n",
        "if __name__ == \"__main__\":\n",
        " even()"
      ],
      "metadata": {
        "colab": {
          "base_uri": "https://localhost:8080/"
        },
        "id": "0jDTKtjfadHu",
        "outputId": "1f092f91-65cc-4106-d396-10d8d9b638c9"
      },
      "execution_count": 3,
      "outputs": [
        {
          "output_type": "stream",
          "name": "stdout",
          "text": [
            "02_print_events\n",
            "0\n",
            "2\n",
            "4\n",
            "6\n",
            "8\n",
            "10\n",
            "12\n",
            "14\n",
            "16\n",
            "18\n",
            "20\n",
            "22\n",
            "24\n",
            "26\n",
            "28\n",
            "30\n",
            "32\n",
            "34\n",
            "36\n",
            "38\n"
          ]
        }
      ]
    },
    {
      "cell_type": "markdown",
      "source": [
        "# Problem Statement:03_wholesome_machine:\n",
        "\n",
        "Write a program which prompts the user to type an affirmation of your choice (we'll use \"I am capable of doing anything I put my mind to.\") until they type it correctly. Sometimes, especially in the midst of such uncertain times, we just need to be reminded that we are resilient, capable, and strong;\n",
        "Note that you can call input() with no prompt and it will still wait for a user to type something!"
      ],
      "metadata": {
        "id": "zLO-pCxMbQ7M"
      }
    },
    {
      "cell_type": "code",
      "source": [
        "print(\"03_wholesome_machine\")\n",
        "\n",
        "affirmation:str = \"I am capable of doing anything I put my mind to\"\n",
        "def wholesome_machine():\n",
        "  print(\"Please type the following affirmation\" + affirmation)\n",
        "\n",
        "  user_feedback = input()  # Note that you can call input() with no prompt and it will still wait for a user to type something!\n",
        "  while user_feedback != affirmation:\n",
        "    # don't write correct affirmation\n",
        "    print(\"That was not the correct affirmation.\")\n",
        "    print(\"Please type the correct affirmation\" + affirmation)\n",
        "    user_feedback = input()\n",
        "  print(\"That is the right affirmation.\")\n",
        "\n",
        "if __name__ == \"__main__\":\n",
        "  wholesome_machine()\n",
        "\n",
        "\n",
        "\n"
      ],
      "metadata": {
        "colab": {
          "base_uri": "https://localhost:8080/"
        },
        "id": "HEKKRF2WcMIL",
        "outputId": "fe4ccfa5-5c16-4ad9-d9bf-5f5dd29b6abd"
      },
      "execution_count": 4,
      "outputs": [
        {
          "output_type": "stream",
          "name": "stdout",
          "text": [
            "03_wholesome_machine\n",
            "Please type the following affirmationI am capable of doing anything I put my mind to\n",
            "I am capable of doing anything\n",
            "That was not the correct affirmation.\n",
            "Please type the correct affirmationI am capable of doing anything I put my mind to\n",
            "I am capable of doing anything I put my mind to\n",
            "That is the right affirmation.\n"
          ]
        }
      ]
    },
    {
      "cell_type": "markdown",
      "source": [
        "# Problem Statement:04_liftoff:\n",
        "\n",
        "Write a program that prints out the calls for a spaceship that is about to launch. Countdown from 10 to 1 and then output Liftoff!\n",
        "\n",
        "Here's a sample run of the program:\n",
        "\n",
        "10 9 8 7 6 5 4 3 2 1 Liftoff!"
      ],
      "metadata": {
        "id": "gprhLc2tkQMi"
      }
    },
    {
      "cell_type": "code",
      "source": [
        "print(\"04_liftoff\")\n",
        "\n",
        "def countdown():\n",
        "  for i in range(10, 0, -1):\n",
        "    print (i)\n",
        "\n",
        "if __name__ == \"__main__\":\n",
        "  countdown()"
      ],
      "metadata": {
        "colab": {
          "base_uri": "https://localhost:8080/"
        },
        "id": "_M0OF63UkY6E",
        "outputId": "343d026c-d4ba-481d-d182-ee11c86aa0f8"
      },
      "execution_count": 9,
      "outputs": [
        {
          "output_type": "stream",
          "name": "stdout",
          "text": [
            "04_liftoff\n",
            "10\n",
            "9\n",
            "8\n",
            "7\n",
            "6\n",
            "5\n",
            "4\n",
            "3\n",
            "2\n",
            "1\n"
          ]
        }
      ]
    },
    {
      "cell_type": "markdown",
      "source": [
        "# Problem Statement:05_double_it:\n",
        "\n",
        "Write a program that asks a user to enter a number. Your program will then double that number and print out the result. It will repeat that process until the value is 100 or greater.\n",
        "\n",
        "For example if the user enters the number 2 you would then print:\n",
        "\n",
        "4 8 16 32 64 128"
      ],
      "metadata": {
        "id": "i7iWQybvnO-R"
      }
    },
    {
      "cell_type": "code",
      "source": [
        "print(\"05_double_it\")\n",
        "\n",
        "\n",
        "def double():\n",
        "  user_value = int(input(\"please Enter a number: \"))\n",
        "  while user_value < 100:\n",
        "    user_value = user_value * 2\n",
        "    print(user_value)\n",
        "\n",
        "if __name__ == \"__main__\":\n",
        "  double()\n",
        "\n",
        "\n",
        "\n",
        "\n",
        "\n"
      ],
      "metadata": {
        "colab": {
          "base_uri": "https://localhost:8080/"
        },
        "id": "lBCxvD0BnYRr",
        "outputId": "0f9f18e1-80ad-405e-fc5f-a50769511306"
      },
      "execution_count": 10,
      "outputs": [
        {
          "output_type": "stream",
          "name": "stdout",
          "text": [
            "05_double_it\n",
            "please Enter a number: 6\n",
            "12\n",
            "24\n",
            "48\n",
            "96\n",
            "192\n"
          ]
        }
      ]
    }
  ]
}