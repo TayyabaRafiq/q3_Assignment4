{
  "nbformat": 4,
  "nbformat_minor": 0,
  "metadata": {
    "colab": {
      "provenance": [],
      "authorship_tag": "ABX9TyNp1GmvFF/wTeVG5PPWOX30",
      "include_colab_link": true
    },
    "kernelspec": {
      "name": "python3",
      "display_name": "Python 3"
    },
    "language_info": {
      "name": "python"
    }
  },
  "cells": [
    {
      "cell_type": "markdown",
      "metadata": {
        "id": "view-in-github",
        "colab_type": "text"
      },
      "source": [
        "<a href=\"https://colab.research.google.com/github/TayyabaRafiq/q3_Assignment4/blob/main/06_functions.ipynb\" target=\"_parent\"><img src=\"https://colab.research.google.com/assets/colab-badge.svg\" alt=\"Open In Colab\"/></a>"
      ]
    },
    {
      "cell_type": "code",
      "execution_count": null,
      "metadata": {
        "id": "azlLfg7_rPyE"
      },
      "outputs": [],
      "source": []
    },
    {
      "cell_type": "markdown",
      "source": [
        "# Problem Statement:00_averages:\n",
        "\n",
        "Write a function that takes two numbers and finds the average between the two."
      ],
      "metadata": {
        "id": "I7-9dBydracr"
      }
    },
    {
      "cell_type": "code",
      "source": [
        "print(\"00_averages\")\n",
        "\n",
        "def average(a:float, b:float):\n",
        "  sum = a + b\n",
        "  return sum / 2\n",
        "\n",
        "def main():\n",
        "  avr_1 = average(10, 20)\n",
        "  avr_2 = average(5,10)\n",
        "\n",
        "  final = average(avr_1, avr_2)\n",
        "  print(\"avr_1: \" , avr_1)\n",
        "  print(\"avr_2: \", avr_2 )\n",
        "  print(\"final avr: \", final)\n",
        "\n",
        "if __name__ == \"__main__\":\n",
        "  main()\n",
        "\n"
      ],
      "metadata": {
        "colab": {
          "base_uri": "https://localhost:8080/"
        },
        "id": "ZVoDIb_Lrm_5",
        "outputId": "44488b49-9cdb-491c-c307-b53efaef34a9"
      },
      "execution_count": null,
      "outputs": [
        {
          "output_type": "stream",
          "name": "stdout",
          "text": [
            "00_averages\n",
            "avr_1:  15.0\n",
            "avr_2:  7.5\n",
            "final avr:  11.25\n"
          ]
        }
      ]
    },
    {
      "cell_type": "markdown",
      "source": [
        "# Problem Statement:01_chaotic_counting:\n",
        "\n",
        "Fill out the chaotic_counting() function, which prints the numbers from 1 to 10, but with a catch. We've written a done() function which returns True with likelihood DONE_LIKELIHOOD -- at each number, before printing the number, you should call done() and check if it returns True or not. If done() returns True, we're done counting, and you should use a return statement to end the chaotic_counting() function execution and resume execution of main(), which will print \"I'm done.\". We've written main() for you -- check it out! Notice that we'll only print \"I'm done\" from main() once chaotic_counting() is done with its execution.\n",
        "I'm going to count until 10 or until I feel like stopping, whichever comes first. 1 2 3 I'm done."
      ],
      "metadata": {
        "id": "2yTHCtO_uA3Y"
      }
    },
    {
      "cell_type": "code",
      "source": [
        "import random\n",
        "\n",
        "print(\"01_chaotic_counting\")\n",
        "\n",
        "DONE_LIKELIHOOD = 0.3\n",
        "\n",
        "def chaotic_counting():\n",
        "  for i in range(10):\n",
        "    curr_num = i + 1\n",
        "    if done():    # Check if \"feel like stopping\"\n",
        "      return      # Stop the function early if I feel like stopping\n",
        "    print(curr_num)\n",
        "\n",
        "def done():\n",
        "  if random.random() < DONE_LIKELIHOOD:\n",
        "    return True\n",
        "  return False\n",
        "\n",
        "def main():\n",
        "  print(\"I'm going to count until 10 or until I feel like stopping, whichever comes first.\")\n",
        "  chaotic_counting()\n",
        "  print(\"I'm done\")\n",
        "\n",
        "if __name__ == \"__main__\":\n",
        "  main()\n"
      ],
      "metadata": {
        "id": "ghtqRC3lu7DO",
        "colab": {
          "base_uri": "https://localhost:8080/"
        },
        "outputId": "0bb72e51-3819-465c-f14b-7578f34e5ace"
      },
      "execution_count": 1,
      "outputs": [
        {
          "output_type": "stream",
          "name": "stdout",
          "text": [
            "01_chaotic_counting\n",
            "I'm going to count until 10 or until I feel like stopping, whichever comes first.\n",
            "1\n",
            "2\n",
            "3\n",
            "4\n",
            "5\n",
            "6\n",
            "I'm done\n"
          ]
        }
      ]
    },
    {
      "cell_type": "markdown",
      "source": [
        "# Problem Statement:02_count_even:\n",
        "\n",
        "Fill out the function count_even(lst) which\n",
        "\n",
        "first populates a list by prompting the user for integers until they press enter (please use the prompt \"Enter an integer or press enter to stop: \"),\n",
        "\n",
        "and then prints the number of even numbers in the list.\n",
        "\n"
      ],
      "metadata": {
        "id": "dH9cOJ8389rl"
      }
    },
    {
      "cell_type": "code",
      "source": [
        "print(\"02_count_even\")\n",
        "\n",
        "def get_list():\n",
        "  lst = []\n",
        "  user_input = input(\"Enter a number or press enter to stop.\")\n",
        "  while user_input != \"\":\n",
        "    lst.append(int(user_input))\n",
        "    user_input = input(\"Enter a number or press enter to stop.\")\n",
        "  return lst\n",
        "\n",
        "def count_even(lst):\n",
        "  count = 0\n",
        "  for num in lst:\n",
        "    if num % 2 == 0:\n",
        "      count += 1\n",
        "  print(count)\n",
        "\n",
        "def main():\n",
        "  lst = get_list()\n",
        "  count_even(lst)\n",
        "\n",
        "if __name__ == \"__main__\":\n",
        "  main()\n",
        "\n",
        "\n",
        "\n",
        "\n"
      ],
      "metadata": {
        "colab": {
          "base_uri": "https://localhost:8080/"
        },
        "id": "9qdt481K9xO-",
        "outputId": "3fca95da-0fad-46d0-e575-f4b61833a199"
      },
      "execution_count": 3,
      "outputs": [
        {
          "output_type": "stream",
          "name": "stdout",
          "text": [
            "02_count_even\n",
            "Enter a number or press enter to stop.0\n",
            "Enter a number or press enter to stop.1\n",
            "Enter a number or press enter to stop.2\n",
            "Enter a number or press enter to stop.3\n",
            "Enter a number or press enter to stop.4\n",
            "Enter a number or press enter to stop.5\n",
            "Enter a number or press enter to stop.6\n",
            "Enter a number or press enter to stop.7\n",
            "Enter a number or press enter to stop.8\n",
            "Enter a number or press enter to stop.9\n",
            "Enter a number or press enter to stop.11\n",
            "Enter a number or press enter to stop.12\n",
            "Enter a number or press enter to stop.\n",
            "6\n"
          ]
        }
      ]
    },
    {
      "cell_type": "markdown",
      "source": [
        "# Problem Statement:04_double:\n",
        "\n",
        "Fill out the double(num) function to return the result of multiplying num by 2.  main() function  asks the user for a number, calls your code for double(num) , and prints the result."
      ],
      "metadata": {
        "id": "uIq4hMWfNVc8"
      }
    },
    {
      "cell_type": "code",
      "source": [
        "print(\"04_double\")\n",
        "\n",
        "def double(num:int):\n",
        "  return num * 2\n",
        "\n",
        "def main():\n",
        "  num = int(input(\"Enter a number: \"))\n",
        "  num_double = double(num)\n",
        "  print(\"Double that is: \" , num_double)\n",
        "\n",
        "if __name__ == \"__main__\":\n",
        "  main()"
      ],
      "metadata": {
        "colab": {
          "base_uri": "https://localhost:8080/"
        },
        "id": "9dRsjf-aNerO",
        "outputId": "9c3d61c1-8ada-4fc4-de50-fa76ed538b53"
      },
      "execution_count": 4,
      "outputs": [
        {
          "output_type": "stream",
          "name": "stdout",
          "text": [
            "04_double\n",
            "Enter a number: 3\n",
            "Double that is:  6\n"
          ]
        }
      ]
    },
    {
      "cell_type": "markdown",
      "source": [
        "# Problem Statement:05_get_name:\n",
        "\n",
        "Fill out the get_name() function to return your name as a string!  main() function  function to retrieve your name and then prints it in a greeting."
      ],
      "metadata": {
        "id": "0_rPspyzQFGD"
      }
    },
    {
      "cell_type": "code",
      "source": [
        "print(\"05_get_name\")\n",
        "\n",
        "def get_name():\n",
        "  return \"Tayyaba\"\n",
        "def main():\n",
        "  name = get_name()\n",
        "  print(\"How are you ?  \" , name)\n",
        "\n",
        "if __name__ == \"__main__\":\n",
        "  main()"
      ],
      "metadata": {
        "colab": {
          "base_uri": "https://localhost:8080/"
        },
        "id": "Dwmtcjh6QnId",
        "outputId": "82c6d5d8-5f01-4007-ea91-4b932e4a7637"
      },
      "execution_count": 6,
      "outputs": [
        {
          "output_type": "stream",
          "name": "stdout",
          "text": [
            "05_get_name\n",
            "How are you ?   Tayyaba\n"
          ]
        }
      ]
    },
    {
      "cell_type": "markdown",
      "source": [
        "# Problem Statement:06_is_odd:\n",
        "\n",
        "10 even 11 odd 12 even 13 odd 14 even 15 odd 16 even 17 odd 18 even 19 odd"
      ],
      "metadata": {
        "id": "DB7VVuKSRtkO"
      }
    },
    {
      "cell_type": "code",
      "source": [
        "print(\"06_is_odd\")\n",
        "\n",
        "def is_odd(value:int):\n",
        "  remainder = value % 2\n",
        "  return remainder == 1\n",
        "\n",
        "def main():\n",
        " for i in range(10):\n",
        "  if is_odd(i):\n",
        "    print(\"odd\")\n",
        "  else:\n",
        "    print(\"even\")\n",
        "\n",
        "if __name__ == \"__main__\":\n",
        "  main()\n",
        "\n"
      ],
      "metadata": {
        "colab": {
          "base_uri": "https://localhost:8080/"
        },
        "id": "GuXViDmKR1pr",
        "outputId": "a5c9f864-426e-43d2-ffcb-64d9571e5bb3"
      },
      "execution_count": 9,
      "outputs": [
        {
          "output_type": "stream",
          "name": "stdout",
          "text": [
            "06_is_odd\n",
            "even\n",
            "odd\n",
            "even\n",
            "odd\n",
            "even\n",
            "odd\n",
            "even\n",
            "odd\n",
            "even\n",
            "odd\n"
          ]
        }
      ]
    },
    {
      "cell_type": "markdown",
      "source": [
        "# Problem Statement:07_print_divisor:\n",
        "\n",
        "Write the helper function print_divisors(num), which takes in a number and prints all of its divisors (all the numbers from 1 to num inclusive that num can be cleanly divided by (there is no remainder to the division). Don't forget to call your function in main()!"
      ],
      "metadata": {
        "id": "uyLvuSBjmAIE"
      }
    },
    {
      "cell_type": "code",
      "source": [
        "print(\"07_print_divisor\")\n",
        "\n",
        "def print_divisor(num:int):\n",
        "  print(\"Here is a divisor of \" , num)\n",
        "\n",
        "  for i in range(num):\n",
        "    curr_divisor = i + 1\n",
        "    if num % curr_divisor == 0:\n",
        "      print(curr_divisor)\n",
        "\n",
        "def main():\n",
        "  num = int(input(\"please Enter a number: \"))\n",
        "  print_divisor(num)\n",
        "\n",
        "if __name__ == \"__main__\":\n",
        "  main()\n"
      ],
      "metadata": {
        "colab": {
          "base_uri": "https://localhost:8080/"
        },
        "id": "2jiCjOzfmcw0",
        "outputId": "00375e2a-97d3-4971-b812-3aabbdfcfb06"
      },
      "execution_count": 1,
      "outputs": [
        {
          "output_type": "stream",
          "name": "stdout",
          "text": [
            "07_print_divisor\n",
            "please Enter a number: 15\n",
            "Here is a divisor of  15\n",
            "1\n",
            "3\n",
            "5\n",
            "15\n"
          ]
        }
      ]
    },
    {
      "cell_type": "markdown",
      "source": [
        "# Problem Statement:08_print_multiple:\n",
        "\n",
        "Fill out print_multiple(message, repeats), which takes as parameters a string message to print, and an integer repeats number of times to print message. We've written the main() function for you, which prompts the user for a message and a number of repeats."
      ],
      "metadata": {
        "id": "M4MnYY1oqbhg"
      }
    },
    {
      "cell_type": "code",
      "source": [
        "print(\"08_print_multiple\")\n",
        "\n",
        "def print_multiple(message:str, repeats:int):\n",
        "  for i in range(repeats):\n",
        "    print(message)\n",
        "\n",
        "def main():\n",
        "  message = input(\"please type a message: \")\n",
        "  repeats = int(input(\"write  number of time your message repeats: \"))\n",
        "  print_multiple(message, repeats)\n",
        "\n",
        "if __name__ == \"__main__\":\n",
        "  main()\n",
        "\n"
      ],
      "metadata": {
        "colab": {
          "base_uri": "https://localhost:8080/"
        },
        "id": "9oviaKeTq-vk",
        "outputId": "7d5f3b78-ae55-477b-cd19-41c21e57cb6f"
      },
      "execution_count": 2,
      "outputs": [
        {
          "output_type": "stream",
          "name": "stdout",
          "text": [
            "08_print_multiple\n",
            "please type a message: Hello Pakistan\n",
            "write  number of time your message repeats: 6\n",
            "Hello Pakistan\n",
            "Hello Pakistan\n",
            "Hello Pakistan\n",
            "Hello Pakistan\n",
            "Hello Pakistan\n",
            "Hello Pakistan\n"
          ]
        }
      ]
    },
    {
      "cell_type": "markdown",
      "source": [
        "# Problem Statement:09_sentence_generator:\n",
        "\n",
        "Implement the helper function make_sentence(word, part_of_speech) which will take a string word and an integer part_of_speech as parameters and, depending on the part of speech, place the word into one of three sentence templates (or one from your imagination!):\n",
        "\n",
        "If part_of_speech is 0, we will assume the word is a noun and use the template: \"I am excited to add this ____ to my vast collection of them!\"\n",
        "\n",
        "If part_of_speech is 1, we will assume the word is a verb use the template: \"It's so nice outside today it makes me want to ____!\"\n",
        "\n",
        "If part_of_speech is 2, we will assume the word is an adjective and use the template: \"Looking out my window, the sky is big and ____!\" make_sentence(word, part_of_speech) should not return anything, just print the correct sentence with the word filled in the blank."
      ],
      "metadata": {
        "id": "odCTKS4P04nY"
      }
    },
    {
      "cell_type": "code",
      "source": [
        "print(\"09_sentence_generator\")\n",
        "\n",
        "def sentence_generator(word:str,part_of_speech:int):\n",
        "  if part_of_speech == 0:\n",
        "    # noun\n",
        "    print(\" I am excited to add this \" + word + \" to my vast collection of them! \")\n",
        "  elif part_of_speech == 1:\n",
        "    # verb\n",
        "    print(\" It's so nice outside today it makes me want to  \" + word + \" !\" )\n",
        "  elif part_of_speech == 2:\n",
        "    # adjective\n",
        "    print(\"Looking out my window, the sky is big and \" + word + \" !\")\n",
        "  else:\n",
        "    print(\"part_of_speech is invalid. It must be 0, 1,or 2 \")\n",
        "\n",
        "def main():\n",
        "  word = input(\"please write a noun, verb, or adjective: \")\n",
        "  part_of_speech = int(input(\" Type 0 for noun , 1 for verb , 2 for adjective: \"))\n",
        "  sentence_generator(word, part_of_speech)\n",
        "\n",
        "if __name__ == \"__main__\":\n",
        "  main()"
      ],
      "metadata": {
        "colab": {
          "base_uri": "https://localhost:8080/"
        },
        "id": "w9S7NaRX1CWf",
        "outputId": "eeefd8e0-ae3d-4bbd-9f1f-0197931ce046"
      },
      "execution_count": 4,
      "outputs": [
        {
          "output_type": "stream",
          "name": "stdout",
          "text": [
            "09_sentence_generator\n",
            "please write a noun, verb, or adjective: Beautiful\n",
            " Type 0 for noun , 1 for verb , 2 for adjective: 2\n",
            "Looking out my window, the sky is big and Beautiful !\n"
          ]
        }
      ]
    },
    {
      "cell_type": "markdown",
      "source": [
        "# Problem Statement:10_print_ones_digit:\n",
        "\n",
        "Write a function called print_ones_digit , which takes as a parameter an integer num and prints its ones digit. The modulo (remainder) operator, %, should be helpful to you here."
      ],
      "metadata": {
        "id": "gXvys4QN5kC1"
      }
    },
    {
      "cell_type": "code",
      "source": [
        "print(\"10_print_ones_digit\")\n",
        "\n",
        "def print_ones_digit(num:int):\n",
        "  one_digit = num % 10\n",
        "  print(\"The ones digit is\", one_digit)\n",
        "\n",
        "def main():\n",
        "  num = int(input(\"Please Enter a number: \"))\n",
        "  print_ones_digit(num)\n",
        "\n",
        "if __name__ == \"__main__\":\n",
        "  main()"
      ],
      "metadata": {
        "colab": {
          "base_uri": "https://localhost:8080/"
        },
        "id": "Id2WJELs5sPy",
        "outputId": "16d64554-4c02-4b21-d50c-e6852d56754c"
      },
      "execution_count": 6,
      "outputs": [
        {
          "output_type": "stream",
          "name": "stdout",
          "text": [
            "10_print_ones_digit\n",
            "Please Enter a number: 54\n",
            "The ones digit is 4\n"
          ]
        }
      ]
    }
  ]
}