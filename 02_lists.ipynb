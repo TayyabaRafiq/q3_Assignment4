{
  "nbformat": 4,
  "nbformat_minor": 0,
  "metadata": {
    "colab": {
      "provenance": [],
      "authorship_tag": "ABX9TyNTfOZkLUqUbrfJFI7MIp0Z",
      "include_colab_link": true
    },
    "kernelspec": {
      "name": "python3",
      "display_name": "Python 3"
    },
    "language_info": {
      "name": "python"
    }
  },
  "cells": [
    {
      "cell_type": "markdown",
      "metadata": {
        "id": "view-in-github",
        "colab_type": "text"
      },
      "source": [
        "<a href=\"https://colab.research.google.com/github/TayyabaRafiq/q3_Assignment4/blob/main/02_lists.ipynb\" target=\"_parent\"><img src=\"https://colab.research.google.com/assets/colab-badge.svg\" alt=\"Open In Colab\"/></a>"
      ]
    },
    {
      "cell_type": "code",
      "execution_count": null,
      "metadata": {
        "id": "N9rry-6ntmrN"
      },
      "outputs": [],
      "source": []
    },
    {
      "cell_type": "markdown",
      "source": [
        "# Problem Statement: 01_add_many_number:\n",
        "\n",
        "Write a function that takes a list of numbers and returns the sum of those numbers."
      ],
      "metadata": {
        "id": "Vz94_mp1uYO6"
      }
    },
    {
      "cell_type": "code",
      "source": [
        "print(\"01_add_many_number\")\n",
        "def add_number(numbers)->int:\n",
        "   num:int = 0\n",
        "   for number in numbers:\n",
        "    num += number\n",
        "   return num\n",
        "\n",
        "def main():\n",
        "   numbers:list[int] = [1, 2, 3, 4, 5, 6]\n",
        "   sum = add_number(numbers)\n",
        "   print(sum)\n",
        "\n",
        "if __name__== \"__main__\":\n",
        "  main()"
      ],
      "metadata": {
        "colab": {
          "base_uri": "https://localhost:8080/"
        },
        "id": "JT2Xdi97uoxL",
        "outputId": "ef208af5-7746-4b5a-e7ef-87b176c7c417"
      },
      "execution_count": 6,
      "outputs": [
        {
          "output_type": "stream",
          "name": "stdout",
          "text": [
            "01_add_many_number\n",
            "21\n"
          ]
        }
      ]
    },
    {
      "cell_type": "markdown",
      "source": [
        "# Problem Statement: 02_double_list:\n",
        "\n",
        "Write a program that doubles each element in a list of numbers. For example, if you start with this list:"
      ],
      "metadata": {
        "id": "4x53oZOA29gA"
      }
    },
    {
      "cell_type": "code",
      "source": [
        "print(\"02_double_list\")\n",
        "\n",
        "def double_list():\n",
        "   numbers:list[int] = [1, 2, 3, 4, 5]\n",
        "   for i in range(len(numbers)):\n",
        "    index = numbers[i]\n",
        "    numbers[i] = index * 2\n",
        "   print(numbers)\n",
        "\n",
        "if __name__ == \"__main__\":\n",
        "  double_list()"
      ],
      "metadata": {
        "colab": {
          "base_uri": "https://localhost:8080/"
        },
        "id": "S50s49Zy4LmI",
        "outputId": "021aebe2-e8ec-478b-fdd9-fafa355e61ea"
      },
      "execution_count": 12,
      "outputs": [
        {
          "output_type": "stream",
          "name": "stdout",
          "text": [
            "02_double_list\n",
            "[2, 4, 6, 8, 10]\n"
          ]
        }
      ]
    },
    {
      "cell_type": "markdown",
      "source": [
        "# Problem Statement: 04_flowing_with_data_structures:\n",
        "\n",
        "In the information flow lesson, we discussed using a variable storing a number as an example of scope. We saw that changes we made to the number inside a function did not stay unless we returned it. This is true for what we call immutable data types which include things like numbers and strings.\n",
        "Enter a message to copy: Hello world!\n",
        "\n",
        "List before: []\n",
        "\n",
        "List after: ['Hello world!', 'Hello world!', 'Hello world!']"
      ],
      "metadata": {
        "id": "ssuKAL_uATvI"
      }
    },
    {
      "cell_type": "code",
      "source": [
        "print(\"04_flowing_with_data_structures\")\n",
        "\n",
        "def three_copies(list,data):\n",
        "  for i in range(3):\n",
        "    list.append(data)\n",
        "\n",
        "def main():\n",
        "  message = input(\"Enter amessage to copy: \")\n",
        "  list = []\n",
        "  print(\"Before list: \",list)\n",
        "  three_copies(list,message)\n",
        "  print(\"After list: \",list)\n",
        "\n",
        "if __name__== \"__main__\":\n",
        "  main()"
      ],
      "metadata": {
        "colab": {
          "base_uri": "https://localhost:8080/"
        },
        "id": "Ld3x9AnHA77W",
        "outputId": "f498a500-6455-4b72-b705-109ac1f29bbe"
      },
      "execution_count": 13,
      "outputs": [
        {
          "output_type": "stream",
          "name": "stdout",
          "text": [
            "04_flowing_with_data_structures\n",
            "Enter amessage to copy: Hello, Pakistan\n",
            "Before list:  []\n",
            "After list:  ['Hello, Pakistan', 'Hello, Pakistan', 'Hello, Pakistan']\n"
          ]
        }
      ]
    },
    {
      "cell_type": "markdown",
      "source": [
        "# Problem Statement: 05_get_first_element:\n",
        "\n",
        "Fill out the function get_first_element(lst) which takes in a list lst as a parameter and prints the first element in the list. The list is guaranteed to be non-empty. We've written some code for you which prompts the user to input the list one element at a time."
      ],
      "metadata": {
        "id": "IGcFqPkGDGl7"
      }
    },
    {
      "cell_type": "code",
      "source": [
        "print(\"05_get_first_element\")\n",
        "\n",
        "def get_first_element(lst):\n",
        "  print(lst[0])\n",
        "\n",
        "def get_lst():\n",
        "  lst = []\n",
        "  elem = input(\"Enter an element to add in list: \")\n",
        "  while elem != \"\":\n",
        "    lst.append(elem)\n",
        "    elem = input(\"Enter an element to add in list: \")\n",
        "  return lst\n",
        "\n",
        "def main():\n",
        "  lst = get_lst()\n",
        "  get_first_element(lst)\n",
        "\n",
        "if __name__== \"__main__\":\n",
        "  main()"
      ],
      "metadata": {
        "colab": {
          "base_uri": "https://localhost:8080/"
        },
        "id": "SqP4clkZD9M7",
        "outputId": "50a545e8-67d1-4621-d194-2ac10d12c50e"
      },
      "execution_count": 15,
      "outputs": [
        {
          "output_type": "stream",
          "name": "stdout",
          "text": [
            "05_get_first_element\n",
            "Enter an element to add in list: T\n",
            "Enter an element to add in list: A\n",
            "Enter an element to add in list: Y\n",
            "Enter an element to add in list: Y\n",
            "Enter an element to add in list: A\n",
            "Enter an element to add in list: B\n",
            "Enter an element to add in list: A\n",
            "Enter an element to add in list: \n",
            "T\n"
          ]
        }
      ]
    },
    {
      "cell_type": "markdown",
      "source": [
        "# Problem Statement: 06_get_last_element:\n",
        "\n",
        "Fill out the function get_last_element(lst) which takes in a list lst as a parameter and prints the last element in the list. The list is guaranteed to be non-empty, but there are no guarantees on its length."
      ],
      "metadata": {
        "id": "nIMN6fzULVo1"
      }
    },
    {
      "cell_type": "code",
      "source": [
        "print(\"06_get_last_element\")\n",
        "\n",
        "def get_last_element(lst):\n",
        "  print(lst[-1])\n",
        "\n",
        "def get_lst():\n",
        "  lst = []\n",
        "  elem = input(\"Enter an element to add in a list: \")\n",
        "  while elem != \"\":\n",
        "    lst.append(elem)\n",
        "    elem = input(\"Enter an element to add in a list: \")\n",
        "  return lst\n",
        "\n",
        "def main():\n",
        "  lst = get_lst()\n",
        "  get_last_element(lst)\n",
        "\n",
        "if __name__ == \"__main__\":\n",
        "  main()"
      ],
      "metadata": {
        "colab": {
          "base_uri": "https://localhost:8080/"
        },
        "id": "3HT56JOLLhyR",
        "outputId": "88e608c1-5842-4399-c590-208e191d1060"
      },
      "execution_count": 16,
      "outputs": [
        {
          "output_type": "stream",
          "name": "stdout",
          "text": [
            "06_get_last_element\n",
            "Enter an element to add in a list: T\n",
            "Enter an element to add in a list: A\n",
            "Enter an element to add in a list: YY\n",
            "Enter an element to add in a list: A\n",
            "Enter an element to add in a list: B\n",
            "Enter an element to add in a list: A\n",
            "Enter an element to add in a list: \n",
            "A\n"
          ]
        }
      ]
    },
    {
      "cell_type": "markdown",
      "source": [
        "# Problem Statement: 07_get_list:\n",
        "\n",
        "Write a program which continuously asks the user to enter values which are added one by one into a list. When the user presses enter without typing anything, print the list."
      ],
      "metadata": {
        "id": "FmBSMHXHO22O"
      }
    },
    {
      "cell_type": "code",
      "source": [
        "print(\"07_get_list\")\n",
        "\n",
        "def get_list():\n",
        "  lst = []\n",
        "\n",
        "  val = input(\"Enter a value: \")\n",
        "  while val:\n",
        "    lst.append(val)\n",
        "    val = input(\"Enter a value: \")\n",
        "  print(\"This is a list: \",lst)\n",
        "\n",
        "if __name__== \"__main__\":\n",
        "  get_list()\n",
        "\n"
      ],
      "metadata": {
        "colab": {
          "base_uri": "https://localhost:8080/"
        },
        "id": "fT6lf33GPAyW",
        "outputId": "abe00313-7c94-44ba-b5d5-8081b2b89eb8"
      },
      "execution_count": 17,
      "outputs": [
        {
          "output_type": "stream",
          "name": "stdout",
          "text": [
            "07_get_list\n",
            "Enter a value: 1\n",
            "Enter a value: 2\n",
            "Enter a value: 3\n",
            "Enter a value: 4\n",
            "Enter a value: 5\n",
            "Enter a value: 6\n",
            "Enter a value: 7\n",
            "Enter a value: 8\n",
            "Enter a value: \n",
            "This is a list:  ['1', '2', '3', '4', '5', '6', '7', '8']\n"
          ]
        }
      ]
    },
    {
      "cell_type": "markdown",
      "source": [
        "# Problem Statement: 08_shorten:\n",
        "\n",
        "Fill out the function shorten(lst) which removes elements from the end of lst, which is a list, and prints each item it removes until lst is MAX_LENGTH items long. If lst is already shorter than MAX_LENGTH you should leave it unchanged. We've written a main() function for you which gets a list and passes it into your function once you run the program. For the autograder to pass you will need MAX_LENGTH to be 3, but feel free to change it around to test your program."
      ],
      "metadata": {
        "id": "Hrg_iAzdRo0q"
      }
    },
    {
      "cell_type": "code",
      "source": [
        "print(\"08_shorten\")\n",
        "\n",
        "def shorten(lst):\n",
        "  while len(lst):\n",
        "    last_element = lst.pop()\n",
        "  print(last_element)\n",
        "\n",
        "def get_last():\n",
        "  lst = []\n",
        "  elem = input(\"Please enter an element to add in a list : \")\n",
        "  while elem != \"\":\n",
        "    lst.append(elem)\n",
        "    elem = input(\"Please enter an element to add in a list: \")\n",
        "  return lst\n",
        "\n",
        "def main():\n",
        "  lst = get_last()\n",
        "  shorten(lst)\n",
        "\n",
        "if __name__ == \"__main__\":\n",
        "  main()\n"
      ],
      "metadata": {
        "colab": {
          "base_uri": "https://localhost:8080/"
        },
        "id": "3Rb1FyWVRyoc",
        "outputId": "7514b051-5f15-4136-8363-f46fc5f89db4"
      },
      "execution_count": 21,
      "outputs": [
        {
          "output_type": "stream",
          "name": "stdout",
          "text": [
            "08_shorten\n",
            "Please enter an element to add in a list : apple\n",
            "Please enter an element to add in a list: orange\n",
            "Please enter an element to add in a list: mango\n",
            "Please enter an element to add in a list: banana\n",
            "Please enter an element to add in a list: grapes\n",
            "Please enter an element to add in a list: cherry\n",
            "Please enter an element to add in a list: melon\n",
            "Please enter an element to add in a list: \n",
            "apple\n"
          ]
        }
      ]
    }
  ]
}