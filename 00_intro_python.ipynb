{
  "nbformat": 4,
  "nbformat_minor": 0,
  "metadata": {
    "colab": {
      "provenance": [],
      "authorship_tag": "ABX9TyOqwZ72iat12bKauTPInRL9",
      "include_colab_link": true
    },
    "kernelspec": {
      "name": "python3",
      "display_name": "Python 3"
    },
    "language_info": {
      "name": "python"
    }
  },
  "cells": [
    {
      "cell_type": "markdown",
      "metadata": {
        "id": "view-in-github",
        "colab_type": "text"
      },
      "source": [
        "<a href=\"https://colab.research.google.com/github/TayyabaRafiq/q3_Assignment4/blob/main/00_intro_python.ipynb\" target=\"_parent\"><img src=\"https://colab.research.google.com/assets/colab-badge.svg\" alt=\"Open In Colab\"/></a>"
      ]
    },
    {
      "cell_type": "code",
      "execution_count": null,
      "metadata": {
        "id": "qdU875TBxXF_",
        "colab": {
          "base_uri": "https://localhost:8080/"
        },
        "outputId": "e9695545-6536-4807-c896-5c68c9d765ff"
      },
      "outputs": [
        {
          "output_type": "stream",
          "name": "stdout",
          "text": [
            "01_add_two_numbers\n",
            "This program adds two numbers.\n",
            "Enter your first_number: 10\n",
            "Enter your second_number: 5\n",
            "Addition of 10 and 5 is : 15 \n"
          ]
        }
      ],
      "source": [
        "print(\"01_add_two_numbers:\")\n",
        "def add():\n",
        "   print(\"This program adds two numbers.\")\n",
        "   first_number = int(input(\"Enter your first_number: \"))\n",
        "   second_number = int(input(\"Enter your second_number: \"))\n",
        "   total = int(first_number + second_number)\n",
        "   print(f\"Addition of {first_number} and {second_number} is : {total} \")\n",
        "if __name__ == \"__main__\":\n",
        "    add()"
      ]
    },
    {
      "cell_type": "code",
      "source": [
        "\n",
        "print(\"02_agreement_bot:\")\n",
        "def agrement_bot():\n",
        "   print(\"This program will ask from the user their favourite animal:\")\n",
        "   fav_animal = input(\"what is your favourite animal ? \")\n",
        "\n",
        "   print(f\"My favorite animal is also {fav_animal}! \")\n",
        "\n",
        "if __name__ == \"__main__\":\n",
        "    agrement_bot()"
      ],
      "metadata": {
        "colab": {
          "base_uri": "https://localhost:8080/"
        },
        "id": "l2avj5yx3EpI",
        "outputId": "caa36526-4b36-4cb5-d62d-e5de8ad25d2a"
      },
      "execution_count": null,
      "outputs": [
        {
          "output_type": "stream",
          "name": "stdout",
          "text": [
            "02_agreement_bot:\n",
            "This program will ask from the user their favourite animal:\n",
            "what is your favourite animal ? Rabbit\n",
            "My favorite animal is also Rabbit! \n"
          ]
        }
      ]
    },
    {
      "cell_type": "code",
      "source": [
        "print(\"03_fahrenheit_to_celsius: \")\n",
        "def convert_unit():\n",
        "   print(\"This program changes temperature unit from fahrenheit to celsius:\")\n",
        "   fahrenheit_degrees = float(input(\"Enter the temperature in Fahrenheit degree: \"))\n",
        "   celsius_degrees = (fahrenheit_degrees - 32) * 5.0/9.0\n",
        "   print(f\"Temperature {fahrenheit_degrees} F  = {celsius_degrees} C \")\n",
        "\n",
        "if __name__ == \"__main__\":\n",
        "    convert_unit()"
      ],
      "metadata": {
        "colab": {
          "base_uri": "https://localhost:8080/"
        },
        "id": "LLwOt7M871xD",
        "outputId": "6905e06b-86a9-4026-8409-c842941a56a3"
      },
      "execution_count": null,
      "outputs": [
        {
          "output_type": "stream",
          "name": "stdout",
          "text": [
            "03_fahrenheit_to_celsius: \n",
            "This program changes temperature unit from fahrenheit to celsius:\n",
            "Enter the temperature in Fahrenheit degree: 100\n",
            "Temperature 100.0 F = 37.77777777777778 C \n"
          ]
        }
      ]
    },
    {
      "cell_type": "code",
      "source": [
        "print(\"04_how_old_are_they\")\n",
        "def friends_ages():\n",
        "   anton:int = 21\n",
        "   beth:int = anton + 6\n",
        "   chen:int = beth + 20\n",
        "   drew:int = chen + anton\n",
        "   ethan:int = chen\n",
        "\n",
        "   # print their ages\n",
        "   print(\"Anton is \" + str(anton) + \" years old.\")\n",
        "   print(\"Beth is \" +str(beth) + \" years old.\")\n",
        "   print(\"chen is \" +str(chen) + \" years old.\")\n",
        "   print(\"drew is \" +str(drew) + \" years old.\")\n",
        "   print(\"ethan is \" +str(ethan) + \" years old.\")\n",
        "\n",
        "if __name__ == \"__main__\":\n",
        "    friends_ages()\n",
        "\n"
      ],
      "metadata": {
        "colab": {
          "base_uri": "https://localhost:8080/"
        },
        "id": "e45sspm-BzqA",
        "outputId": "257d7662-0777-4c09-81a5-733432c46389"
      },
      "execution_count": 4,
      "outputs": [
        {
          "output_type": "stream",
          "name": "stdout",
          "text": [
            "04_how_old_are_they\n",
            "Anton is 21 years old.\n",
            "Beth is 27 years old.\n",
            "chen is 47 years old.\n",
            "drew is 68 years old.\n",
            "ethan is 47 years old.\n"
          ]
        }
      ]
    },
    {
      "cell_type": "markdown",
      "source": [
        "Problem Statement\n",
        "Prompt the user to enter the lengths of each side of a triangle and then calculate and print the perimeter of the triangle (the sum of all of the side lengths).\n",
        "\n",
        "Here's a sample run of the program (user input is in bold italics):\n",
        "\n",
        "What is the length of side 1? 3\n",
        "\n",
        "What is the length of side 2? 4\n",
        "\n",
        "What is the length of side 3? 5.5\n",
        "\n",
        "The perimeter of the triangle is 12.5"
      ],
      "metadata": {
        "id": "cBEV12knOJ7G"
      }
    },
    {
      "cell_type": "code",
      "source": [
        "print(\"05_triangle_perimeter\")\n",
        "def triangle_perimeter():\n",
        "   side1 = float(input(\"What is the length of side 1 of the triangle:\"))\n",
        "   side2 = float(input(\"What is the length of side 2 of the triangle:\"))\n",
        "   side3 = float(input(\"What is the length of side 3 of the triangle:\"))\n",
        "\n",
        "  # calculate and print the perimeter of the triangle\n",
        "   perimeter = side1 + side2 + side3\n",
        "   print(f\"Perimeter of triangle is {perimeter}\")\n",
        "\n",
        "if __name__ == \"__main__\":\n",
        "  triangle_perimeter()\n"
      ],
      "metadata": {
        "colab": {
          "base_uri": "https://localhost:8080/"
        },
        "id": "cZke0jWVOcNm",
        "outputId": "bf044c87-8c25-4ddd-bdb3-4cd067dee1d1"
      },
      "execution_count": 5,
      "outputs": [
        {
          "output_type": "stream",
          "name": "stdout",
          "text": [
            "05_triangle_perimeter\n",
            "What is the length of side 1 of the triangle:6.5\n",
            "What is the length of side 2 of the triangle:6.5\n",
            "What is the length of side 3 of the triangle:8.5\n",
            "Perimeter of triangle is 21.5\n"
          ]
        }
      ]
    },
    {
      "cell_type": "markdown",
      "source": [
        "Problem Statement\n",
        "Ask the user for a number and print its square (the product of the number times itself).\n",
        "\n",
        "Here's a sample run of the program (user input is in bold italics):\n",
        "\n",
        "Type a number to see its square: 4\n",
        "\n",
        "4.0 squared is 16.0"
      ],
      "metadata": {
        "id": "bM2FdRsqSeFz"
      }
    },
    {
      "cell_type": "code",
      "source": [
        "print(\"06_square_number\")\n",
        "\n",
        "def square():\n",
        "  number = float(input(\"Enter the number to take its square:\"))\n",
        "  num_sqr = number ** 2\n",
        "  print(f\"The square of {number} is {num_sqr}\")\n",
        "if __name__ == \"__main__\":\n",
        "  square()"
      ],
      "metadata": {
        "colab": {
          "base_uri": "https://localhost:8080/"
        },
        "id": "Qrn4e5VhShHT",
        "outputId": "bb14473a-4833-4c8f-df7e-b9ad9c28255e"
      },
      "execution_count": 6,
      "outputs": [
        {
          "output_type": "stream",
          "name": "stdout",
          "text": [
            "06_square_number\n",
            "Enter the number to take its square:5\n",
            "The square of 5.0 is 25.0\n"
          ]
        }
      ]
    }
  ]
}