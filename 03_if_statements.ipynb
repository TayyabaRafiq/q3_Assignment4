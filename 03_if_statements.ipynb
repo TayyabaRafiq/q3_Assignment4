{
  "nbformat": 4,
  "nbformat_minor": 0,
  "metadata": {
    "colab": {
      "provenance": [],
      "authorship_tag": "ABX9TyM4WYZsyWSFw47ThsQHYOe2",
      "include_colab_link": true
    },
    "kernelspec": {
      "name": "python3",
      "display_name": "Python 3"
    },
    "language_info": {
      "name": "python"
    }
  },
  "cells": [
    {
      "cell_type": "markdown",
      "metadata": {
        "id": "view-in-github",
        "colab_type": "text"
      },
      "source": [
        "<a href=\"https://colab.research.google.com/github/TayyabaRafiq/q3_Assignment4/blob/main/03_if_statements.ipynb\" target=\"_parent\"><img src=\"https://colab.research.google.com/assets/colab-badge.svg\" alt=\"Open In Colab\"/></a>"
      ]
    },
    {
      "cell_type": "markdown",
      "source": [
        "# Problem Statement:01_print_events:\n",
        "\n",
        "Write a program that prints the first 20 even numbers. There are several correct approaches, but they all use a loop of some sort. Do no write twenty print statements\n",
        "\n",
        "The first even number is 0:\n",
        "\n",
        "0 2 4 6 8 10 12 14 16 18 20 22 24 26 28 30 32 34 36 38"
      ],
      "metadata": {
        "id": "qWQk80R8xQj_"
      }
    },
    {
      "cell_type": "code",
      "source": [
        "print(\"01_print_events\")\n",
        "\n",
        "\n",
        "def even():\n",
        "  for i in range(20):\n",
        "    print(i * 2)\n",
        "\n",
        "if __name__==\"__main__\":\n",
        "  even()\n",
        "\n",
        "\n"
      ],
      "metadata": {
        "colab": {
          "base_uri": "https://localhost:8080/"
        },
        "id": "5Kt9__UwxgES",
        "outputId": "0da23399-197c-45de-c000-262ee0c78ad5"
      },
      "execution_count": 3,
      "outputs": [
        {
          "output_type": "stream",
          "name": "stdout",
          "text": [
            "01_print_events\n",
            "0\n",
            "2\n",
            "4\n",
            "6\n",
            "8\n",
            "10\n",
            "12\n",
            "14\n",
            "16\n",
            "18\n",
            "20\n",
            "22\n",
            "24\n",
            "26\n",
            "28\n",
            "30\n",
            "32\n",
            "34\n",
            "36\n",
            "38\n"
          ]
        }
      ]
    },
    {
      "cell_type": "markdown",
      "source": [
        "# Problem Statement:02_international_voting_age:\n",
        "\n",
        "Write a program which asks a user for their age and lets them know if they can or can't vote in the following three fictional countries.\n",
        "Around the world, different countries have different voting ages. In the fictional countries of Peturksbouipo, Stanlau, and Mayengua, the voting ages are very different:\n",
        "\n",
        "the voting age in Peturksbouipo is 16 (in real life, this is the voting age in, for example, Scotland, Ethiopia, and Austria)\n",
        "\n",
        "the voting age in Stanlau is 25 (in real life this is the voting age in the United Arab Emirates)\n",
        "\n",
        "the voting age in Mayengua is 48 (in real life, as far as we can tell, this isn't the voting age anywhere)\n",
        "\n",
        "Your code should prompt the for their age and print whether or not they can vote in Peturksbouipo, Stanlau, or Mayengua."
      ],
      "metadata": {
        "id": "lSyAYb2KzItX"
      }
    },
    {
      "cell_type": "code",
      "source": [
        "print(\"02_international_voting_age\")\n",
        "Peturksbouipo_age:int = 16\n",
        "Stanlau_age:int = 25\n",
        "Mayengua_age:int = 48\n",
        "\n",
        "def voting_age():\n",
        "  user_age:int = int(input(\"Please Enter your Age: \"))\n",
        "\n",
        "  # for Peturksbouipo\n",
        "  if user_age >= Peturksbouipo_age:\n",
        "    print(f\"You can vote in Peturksbouipo, where the voting age is {Peturksbouipo_age}\")\n",
        "  else:\n",
        "    print(f\"You can not vote in Peturksbouipo, where the voting age is {Peturksbouipo_age}\")\n",
        "\n",
        "  # for Stanlau\n",
        "  if user_age >= Stanlau_age:\n",
        "    print(f\"You can vote in Stanlau, where the voting age is {Stanlau_age}\")\n",
        "  else:\n",
        "    print(f\"You can not vote in Stanlau, where the voting age is {Stanlau_age}\")\n",
        "\n",
        "  # for Mayengua\n",
        "  if user_age >= Mayengua_age:\n",
        "    print(f\"You can vote in Mayengua, where the voting age is {Mayengua_age}\")\n",
        "  else:\n",
        "    print(f\"You can not vote in Mayengua, where the voting age is {Mayengua_age}\")\n",
        "\n",
        "if __name__==\"__main__\":\n",
        " voting_age()\n",
        "\n",
        "\n",
        "\n",
        "\n",
        "\n",
        "\n"
      ],
      "metadata": {
        "colab": {
          "base_uri": "https://localhost:8080/"
        },
        "id": "2XChA7wcz0gQ",
        "outputId": "ae6b2515-4bf1-4f5e-8689-cf5c028d62b1"
      },
      "execution_count": 5,
      "outputs": [
        {
          "output_type": "stream",
          "name": "stdout",
          "text": [
            "02_international_voting_age\n",
            "Please Enter your Age: 30\n",
            "You can vote in Peturksbouipo, where the voting age is 16\n",
            "You can vote in Stanlau, where the voting age is 25\n",
            "You can not vote in Mayengua, where the voting age is 48\n"
          ]
        }
      ]
    },
    {
      "cell_type": "markdown",
      "source": [
        "# Problem Statement:03_leap_year:\n",
        "\n",
        "Write a program that reads a year from the user and tells whether a given year is a leap year or not.\n",
        "In the Gregorian calendar, three criteria must be checked to identify leap years:\n",
        "\n",
        "The given year must be evenly divisible by 4;\n",
        "If the year can also be evenly divided by 100, it is NOT a leap year; unless:\n",
        "The year is also evenly divisible by 400. Then it is a leap year."
      ],
      "metadata": {
        "id": "9J9ilsVo4TdX"
      }
    },
    {
      "cell_type": "code",
      "source": [
        "print(\"03_leap_year\")\n",
        "\n",
        "def leap_year():\n",
        "  year = int(input(\"Please Enter the Year: \"))\n",
        "\n",
        "  if year % 4 == 0:\n",
        "    if year % 100 == 0:\n",
        "      if year % 400 == 0:\n",
        "        print(f\"{year} is a leap year.\")\n",
        "      else:\n",
        "        print(f\"{year} is not a leap year.\")\n",
        "    else:\n",
        "        print(f\"{year} is a leap year.\")\n",
        "  else:\n",
        "        print(f\"{year} is not a leap year.\")\n",
        "\n",
        "if __name__ == \"__main__\":\n",
        "  leap_year()"
      ],
      "metadata": {
        "colab": {
          "base_uri": "https://localhost:8080/"
        },
        "id": "JDMa4qEX49Zq",
        "outputId": "7e263203-ef62-4d20-d26e-81dcf26e3d67"
      },
      "execution_count": 17,
      "outputs": [
        {
          "output_type": "stream",
          "name": "stdout",
          "text": [
            "03_leap_year\n",
            "Please Enter the Year: 2020\n",
            "2020 is a leap year.\n"
          ]
        }
      ]
    },
    {
      "cell_type": "markdown",
      "source": [
        "# Problem Statement:04_tall_enough_to_ride:\n",
        "\n",
        "Write a program which asks the user how tall they are and prints whether or not they're taller than a pre-specified minimum height."
      ],
      "metadata": {
        "id": "zjdR37nZCRG3"
      }
    },
    {
      "cell_type": "code",
      "source": [
        "print(\"04_tall_enough_to_ride\")\n",
        "\n",
        "minimum_height = 50\n",
        "\n",
        "def tall():\n",
        "  user_height = float(input(\"How tall are you? \"))\n",
        "  if user_height >= minimum_height:\n",
        "    print(\"You're tall enough to ride!\")\n",
        "\n",
        "  else:\n",
        "    print(\"You're not tall enough to ride, but maybe next year!\")\n",
        "\n",
        "if __name__==\"__main__\":\n",
        "  tall()"
      ],
      "metadata": {
        "colab": {
          "base_uri": "https://localhost:8080/"
        },
        "id": "QhXfwU3MDfma",
        "outputId": "a1e99b3e-c278-41e9-9f38-f472e75b48e5"
      },
      "execution_count": 18,
      "outputs": [
        {
          "output_type": "stream",
          "name": "stdout",
          "text": [
            "04_tall_enough_to_ride\n",
            "How tall are you? 40\n",
            "You're not tall enough to ride, but maybe next year!\n"
          ]
        }
      ]
    },
    {
      "cell_type": "markdown",
      "source": [
        "# Problem Statement:05_random_numbers:\n",
        "\n",
        "Print 10 random numbers in the range 1 to 100."
      ],
      "metadata": {
        "id": "bDZa6oXHH093"
      }
    },
    {
      "cell_type": "code",
      "source": [
        "print(\"05_random_numbers\")\n",
        "\n",
        "import random\n",
        "\n",
        "def numbers():\n",
        "  for i in range(10):\n",
        "    num:list[int] = random.randint(1, 100)\n",
        "    print(num)\n",
        "\n",
        "if __name__== \"__main__\":\n",
        "  numbers()"
      ],
      "metadata": {
        "colab": {
          "base_uri": "https://localhost:8080/"
        },
        "id": "tJF_VrvPH9tA",
        "outputId": "049e26d1-8e24-4d7b-8be3-e8a489524585"
      },
      "execution_count": 19,
      "outputs": [
        {
          "output_type": "stream",
          "name": "stdout",
          "text": [
            "05_random_numbers\n",
            "80\n",
            "50\n",
            "74\n",
            "45\n",
            "6\n",
            "50\n",
            "25\n",
            "38\n",
            "74\n",
            "97\n"
          ]
        }
      ]
    }
  ]
}